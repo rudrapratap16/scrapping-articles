{
  "cells": [
    {
      "cell_type": "code",
      "execution_count": 1,
      "metadata": {
        "id": "bqbsEXhqYJNB"
      },
      "outputs": [],
      "source": [
        "import requests\n",
        "from bs4 import BeautifulSoup\n",
        "from dotenv import load_dotenv\n",
        "import os"
      ]
    },
    {
      "cell_type": "code",
      "execution_count": 2,
      "metadata": {},
      "outputs": [
        {
          "data": {
            "text/plain": [
              "True"
            ]
          },
          "execution_count": 2,
          "metadata": {},
          "output_type": "execute_result"
        }
      ],
      "source": [
        "load_dotenv()"
      ]
    },
    {
      "cell_type": "code",
      "execution_count": 3,
      "metadata": {
        "id": "-858RIKseZRL"
      },
      "outputs": [],
      "source": [
        "api_key = os.getenv('API_KEY')\n",
        "search_engine_id = os.getenv('SEARCH_ENGINE_ID')"
      ]
    },
    {
      "cell_type": "code",
      "execution_count": 47,
      "metadata": {
        "colab": {
          "base_uri": "https://localhost:8080/"
        },
        "id": "Mmiwengwea2k",
        "outputId": "7653165c-d0f5-4456-8d3c-575339ae5cc8"
      },
      "outputs": [
        {
          "name": "stdout",
          "output_type": "stream",
          "text": [
            "{'kind': 'customsearch#search', 'url': {'type': 'application/json', 'template': 'https://www.googleapis.com/customsearch/v1?q={searchTerms}&num={count?}&start={startIndex?}&lr={language?}&safe={safe?}&cx={cx?}&sort={sort?}&filter={filter?}&gl={gl?}&cr={cr?}&googlehost={googleHost?}&c2coff={disableCnTwTranslation?}&hq={hq?}&hl={hl?}&siteSearch={siteSearch?}&siteSearchFilter={siteSearchFilter?}&exactTerms={exactTerms?}&excludeTerms={excludeTerms?}&linkSite={linkSite?}&orTerms={orTerms?}&dateRestrict={dateRestrict?}&lowRange={lowRange?}&highRange={highRange?}&searchType={searchType}&fileType={fileType?}&rights={rights?}&imgSize={imgSize?}&imgType={imgType?}&imgColorType={imgColorType?}&imgDominantColor={imgDominantColor?}&alt=json'}, 'queries': {'request': [{'title': 'Google Custom Search - bjp times of india', 'totalResults': '23700000', 'searchTerms': 'bjp times of india', 'count': 10, 'startIndex': 1, 'inputEncoding': 'utf8', 'outputEncoding': 'utf8', 'safe': 'off', 'cx': 'c09cc4e9838594423', 'dateRestrict': 'y1'}], 'nextPage': [{'title': 'Google Custom Search - bjp times of india', 'totalResults': '23700000', 'searchTerms': 'bjp times of india', 'count': 10, 'startIndex': 11, 'inputEncoding': 'utf8', 'outputEncoding': 'utf8', 'safe': 'off', 'cx': 'c09cc4e9838594423', 'dateRestrict': 'y1'}]}, 'context': {'title': 'awshar'}, 'searchInformation': {'searchTime': 0.417352, 'formattedSearchTime': '0.42', 'totalResults': '23700000', 'formattedTotalResults': '23,700,000'}, 'items': [{'kind': 'customsearch#result', 'title': \"'PR stunt ... gimmick': How BJP, Congress reacted to Kejriwal ...\", 'htmlTitle': '&#39;PR stunt ... gimmick&#39;: How <b>BJP</b>, Congress reacted to Kejriwal ...', 'link': 'https://timesofindia.indiatimes.com/india/drama-pr-stunt-how-bjp-reacted-to-kejriwal-announcing-to-resign-as-delhi-cm/articleshow/113368962.cms', 'displayLink': 'timesofindia.indiatimes.com', 'snippet': \"Sep 15, 2024 ... 'PR stunt ... gimmick': How BJP, Congress reacted to Kejriwal announcing to resign as Delhi CM. TOI News Desk / TIMESOFINDIA.COM / Updated\\xa0...\", 'htmlSnippet': 'Sep 15, 2024 <b>...</b> &#39;PR stunt ... gimmick&#39;: How <b>BJP</b>, Congress reacted to Kejriwal announcing to resign as Delhi CM. <b>TOI</b> News Desk / TIMESOFINDIA.COM / Updated&nbsp;...', 'formattedUrl': 'https://timesofindia.indiatimes.com/india/...pr...bjp.../113368962.cms', 'htmlFormattedUrl': 'https://<b>timesofindia</b>.<b>indiatimes</b>.com/<b>india</b>/...pr...<b>bjp</b>.../113368962.cms', 'pagemap': {'cse_thumbnail': [{'src': 'https://encrypted-tbn0.gstatic.com/images?q=tbn:ANd9GcSTUNTGDxU1WIdFSVxYmZSPe9NtkRmPb7_K3JnldnMIAVSjThQV_5bwjWk7&s', 'width': '305', 'height': '165'}], 'imageobject': [{'width': '600', 'url': 'https://static.toiimg.com/photo/msid-58127550/toilogo.jpg', 'height': '60'}], 'organization': [{'name': 'Times of India', 'url': 'https://timesofindia.indiatimes.com'}], 'metatags': [{'og:image': 'https://static.toiimg.com/thumb/msid-113368995,width-1070,height-580,imgsize-1077274,resizemode-75,overlay-toi_sw,pt-32,y_pad-40/photo.jpg', 'twitter:title': \"'PR stunt ... gimmick': How BJP, Congress reacted to Kejriwal announcing to resign as Delhi CM | India News - Times of India\", 'og:image:width': '1070', 'theme-color': '#af2c2c', 'og:type': 'article', 'og:site_name': 'The Times of India', 'handheldfriendly': 'true', 'twitter:url': 'https://timesofindia.indiatimes.com/india/drama-pr-stunt-how-bjp-reacted-to-kejriwal-announcing-to-resign-as-delhi-cm/articleshow/113368962.cms', 'the times of india': 'app-id=427589329,app-argument=https://timesofindia.indiatimes.com/india/drama-pr-stunt-how-bjp-reacted-to-kejriwal-announcing-to-resign-as-delhi-cm/articleshow/113368962.cms', 'og:title': \"'PR stunt ... gimmick': How BJP, Congress reacted to Kejriwal announcing to resign as Delhi CM | India News - Times of India\", 'og:image:height': '580', 'y_key': 'b1abb36a8d5c19c9', 'og:description': 'India News: Delhi chief minister Arvind Kejriwal announced he will resign within two days, seeking public endorsement of his honesty. The BJP criticized this move', 'fb:pages': '26781952138', 'twitter:image': 'https://static.toiimg.com/thumb/msid-113368995,width-1070,height-580,imgsize-1077274,resizemode-75,overlay-toi_sw,pt-32,y_pad-40/photo.jpg', 'fb:app_id': '117787264903013', 'viewport': 'width=device-width, initial-scale=1, maximum-scale=1', 'news_keywords': 'India, News, Google News, India Breaking News, India news, Live News India, Top news in India,Sonia Gandhi,Kejriwal,BJP,Arvind Kejriwal,Aam Aadmi Party', 'twitter:description': 'India News: Delhi chief minister Arvind Kejriwal announced he will resign within two days, seeking public endorsement of his honesty. The BJP criticized this move', 'apple-mobile-web-app-capable': 'yes', 'mobileoptimized': 'width', 'mobile-web-app-capable': 'yes', 'og:url': 'https://timesofindia.indiatimes.com/india/drama-pr-stunt-how-bjp-reacted-to-kejriwal-announcing-to-resign-as-delhi-cm/articleshow/113368962.cms'}], 'cse_image': [{'src': 'https://static.toiimg.com/thumb/msid-113368995,width-1070,height-580,imgsize-1077274,resizemode-75,overlay-toi_sw,pt-32,y_pad-40/photo.jpg'}], 'listitem': [{'item': 'News', 'name': 'News', 'position': '1'}, {'item': 'India News', 'name': 'India News', 'position': '2'}]}}, {'kind': 'customsearch#result', 'title': 'Bharatiya Janata Party - Wikipedia', 'htmlTitle': '<b>Bharatiya Janata Party</b> - Wikipedia', 'link': 'https://en.wikipedia.org/wiki/Bharatiya_Janata_Party', 'displayLink': 'en.wikipedia.org', 'snippet': \"Jan 23, 2025 ... BJP emerged out from Syama Prasad Mukherjee's Bharatiya Jana Sangh. Since 2014, it has been the ruling political party in India under the incumbent Prime\\xa0...\", 'htmlSnippet': 'Jan 23, 2025 <b>...</b> <b>BJP</b> emerged out from Syama Prasad Mukherjee&#39;s Bharatiya Jana Sangh. Since 2014, it has been the ruling political party in <b>India</b> under the incumbent Prime&nbsp;...', 'formattedUrl': 'https://en.wikipedia.org/wiki/Bharatiya_Janata_Party', 'htmlFormattedUrl': 'https://en.wikipedia.org/wiki/Bharatiya_Janata_Party', 'pagemap': {'hcard': [{'url_text': 'www.bjp.org', 'bday': '1980-04-06', 'fn': 'Bharatiya Janata Party', 'nickname': 'BJP', 'label': '6-A, Deen Dayal Upadhyaya Marg, New Delhi, Delhi, India[15]', 'category': 'Conservatism (Indian)[25]Neoliberalism[26]Integral humanism[27]Hindutva[28]Hindu nationalism[29]Right-wing populism[30]', 'url': 'www.bjp.org'}], 'metatags': [{'referrer': 'origin', 'og:image': 'https://upload.wikimedia.org/wikipedia/commons/thumb/0/03/Bharatiya_Janata_Party_%28icon%29.svg/1200px-Bharatiya_Janata_Party_%28icon%29.svg.png', 'theme-color': '#eaecf0', 'og:image:width': '1200', 'og:type': 'website', 'viewport': 'width=device-width, initial-scale=1.0, user-scalable=yes, minimum-scale=0.25, maximum-scale=5.0', 'og:title': 'Bharatiya Janata Party - Wikipedia', 'og:image:height': '1242', 'format-detection': 'telephone=no'}]}}, {'kind': 'customsearch#result', 'title': \"'Hindi is not national language': BJP's Annamalai backs ...\", 'htmlTitle': '&#39;Hindi is not national language&#39;: <b>BJP&#39;s</b> Annamalai backs ...', 'link': 'https://timesofindia.indiatimes.com/india/hindi-is-not-national-language-ravichandran-ashwin-at-college-event-in-tamil-nadu/articleshow/117122362.cms', 'displayLink': 'timesofindia.indiatimes.com', 'snippet': \"Jan 10, 2025 ... 'Hindi is not national language': BJP's Annamalai backs Ravichandran Ashwin's remark. TOI News Desk / TIMESOFINDIA.COM / Updated: Jan 10, 2025, 19:59 IST.\", 'htmlSnippet': 'Jan 10, 2025 <b>...</b> &#39;Hindi is not national language&#39;: <b>BJP&#39;s</b> Annamalai backs Ravichandran Ashwin&#39;s remark. <b>TOI</b> News Desk / TIMESOFINDIA.COM / Updated: Jan 10, 2025, 19:59 IST.', 'formattedUrl': 'https://timesofindia.indiatimes.com/india/hindi-is.../117122362.cms', 'htmlFormattedUrl': 'https://<b>timesofindia</b>.<b>indiatimes</b>.com/<b>india</b>/hindi-is.../117122362.cms', 'pagemap': {'cse_thumbnail': [{'src': 'https://encrypted-tbn0.gstatic.com/images?q=tbn:ANd9GcTsIs_qJdfUsZzyuNGijAgf6qEasLWyqTnmW6r3SbJ2QVNwPENwoR3L2eKy&s', 'width': '305', 'height': '165'}], 'imageobject': [{'width': '600', 'url': 'https://static.toiimg.com/photo/msid-58127550/toilogo.jpg', 'height': '60'}], 'organization': [{'name': 'Times of India', 'url': 'https://timesofindia.indiatimes.com'}], 'metatags': [{'og:image': 'https://static.toiimg.com/thumb/msid-117124349,width-1070,height-580,imgsize-774109,resizemode-75,overlay-toi_sw,pt-32,y_pad-40/photo.jpg', 'twitter:title': \"'Hindi is not national language': BJP's Annamalai backs Ravichandran Ashwin's remark | India News - The Times of India\", 'og:image:width': '1070', 'theme-color': '#af2c2c', 'og:type': 'article', 'og:site_name': 'The Times of India', 'handheldfriendly': 'true', 'twitter:url': 'https://timesofindia.indiatimes.com/india/hindi-is-not-national-language-ravichandran-ashwin-at-college-event-in-tamil-nadu/articleshow/117122362.cms', 'the times of india': 'app-id=427589329,app-argument=https://timesofindia.indiatimes.com/india/hindi-is-not-national-language-ravichandran-ashwin-at-college-event-in-tamil-nadu/articleshow/117122362.cms', 'og:title': \"'Hindi is not national language': BJP's Annamalai backs Ravichandran Ashwin's remark | India News - The Times of India\", 'og:image:height': '580', 'y_key': 'b1abb36a8d5c19c9', 'og:description': 'India News: NEW DELHI: Former cricketer Ravichandran Ashwin made a strong statement as the chief guest at a college event in Tamil Nadu, saying, Hindi is not the .', 'fb:pages': '26781952138', 'twitter:image': 'https://static.toiimg.com/thumb/msid-117124349,width-1070,height-580,imgsize-774109,resizemode-75,overlay-toi_sw,pt-32,y_pad-40/photo.jpg', 'fb:app_id': '117787264903013', 'viewport': 'width=device-width, initial-scale=1, maximum-scale=1', 'news_keywords': 'India, News, Google News, India Breaking News, India news, Live News India, Top news in India,Tamil Nadu college event,Tamil language preference,Ravichandran Ashwin,official language of India,Hindi national language,Ashwin retirement news', 'twitter:description': 'India News: NEW DELHI: Former cricketer Ravichandran Ashwin made a strong statement as the chief guest at a college event in Tamil Nadu, saying, Hindi is not the .', 'apple-mobile-web-app-capable': 'yes', 'mobileoptimized': 'width', 'mobile-web-app-capable': 'yes', 'og:url': 'https://timesofindia.indiatimes.com/india/hindi-is-not-national-language-ravichandran-ashwin-at-college-event-in-tamil-nadu/articleshow/117122362.cms'}], 'cse_image': [{'src': 'https://static.toiimg.com/thumb/msid-117124349,width-1070,height-580,imgsize-774109,resizemode-75,overlay-toi_sw,pt-32,y_pad-40/photo.jpg'}], 'listitem': [{'item': 'News', 'name': 'News', 'position': '1'}, {'item': 'India News', 'name': 'India News', 'position': '2'}]}}, {'kind': 'customsearch#result', 'title': \"Where Modi's B.J.P. Lost Support In India's Election - The New York ...\", 'htmlTitle': 'Where Modi&#39;s <b>B.J.P.</b> Lost Support In <b>India&#39;s</b> Election - The New York ...', 'link': 'https://www.nytimes.com/interactive/2024/06/07/world/asia/india-election-map.html', 'displayLink': 'www.nytimes.com', 'snippet': 'Jun 7, 2024 ... It won a seat for the first time in the left-dominated state of Kerala and several seats in the state of Telangana. N.D.A. alliance gained territory in the east\\xa0...', 'htmlSnippet': 'Jun 7, 2024 <b>...</b> It won a seat for the first <b>time</b> in the left-dominated state of Kerala and several seats in the state of Telangana. N.D.A. alliance gained territory in the east&nbsp;...', 'formattedUrl': 'https://www.nytimes.com/interactive/2024/06/07/.../india-election-map.html', 'htmlFormattedUrl': 'https://www.ny<b>times</b>.com/interactive/2024/06/07/.../<b>india</b>-election-map.html', 'pagemap': {'cse_thumbnail': [{'src': 'https://encrypted-tbn0.gstatic.com/images?q=tbn:ANd9GcSQc--NWSP4wH8GZYHYhelWhzNWwhDsv8vUOum8WzmVuTZBJ6R0vGhT1bc&s', 'width': '311', 'height': '162'}], 'metatags': [{'og:image': 'https://static01.nyt.com/images/2024/06/07/multimedia/2024-06-05-india-elections-index/2024-06-05-india-elections-index-facebookJumbo-v8.jpg', 'nyt_uri': 'nyt://interactive/eef36ffc-3294-58f5-8926-60a5a32f70e2', 'twitter:card': 'summary_large_image', 'article:published_time': '2024-06-07T12:44:55.000Z', 'twitter:url': 'https://www.nytimes.com/interactive/2024/06/07/world/asia/india-election-map.html', 'pdate': '20240607', 'articleid': '100000009509485', 'og:description': 'Maps show how Modi lost support throughout the country, including in areas that had embraced his party’s Hindu-nationalist ideology.', 'twitter:image': 'https://static01.nyt.com/images/2024/06/07/multimedia/2024-06-05-india-elections-index/2024-06-05-india-elections-index-videoSixteenByNine3000-v6.jpg', 'twitter:site': '@nytimes', 'article:modified_time': '2024-06-08T04:08:30.922Z', 'news_keywords': 'India,Narendra Modi,Bharatiya Janata Party,Election', 'scg': 'asia', 'article:content_tier': 'metered', 'image': 'https://static01.nyt.com/images/2024/06/07/multimedia/2024-06-05-india-elections-index/2024-06-05-india-elections-index-facebookJumbo-v8.jpg', 'twitter:title': 'Where India Turned Against Modi', 'og:type': 'article', 'article:section': 'World', 'cg': 'world', 'pubp_event_id': 'pubp://event/da4781fd7bdb4fdf866d04ae560ac424', 'og:title': 'Where India Turned Against Modi', 'slack-app-id': 'A0121HXPPTQ', 'article:author': 'https://www.nytimes.com/by/agnes-chang', 'article:tag': 'India', 'fb:app_id': '9869919170', 'byl': 'By Agnes Chang, Mujib Mashal and Pablo Robles', 'viewport': 'width=device-width, initial-scale=1', 'twitter:description': 'Maps show how Modi lost support throughout the country, including in areas that had embraced his party’s Hindu-nationalist ideology.', 'og:url': 'https://www.nytimes.com/interactive/2024/06/07/world/asia/india-election-map.html', 'article:opinion': 'false'}], 'cse_image': [{'src': 'https://static01.nyt.com/images/2024/06/07/multimedia/2024-06-05-india-elections-index/2024-06-05-india-elections-index-facebookJumbo-v8.jpg'}]}}, {'kind': 'customsearch#result', 'title': \"BJP expels functionary after video of restaurant owner's apology to ...\", 'htmlTitle': '<b>BJP</b> expels functionary after video of restaurant owner&#39;s apology to ...', 'link': 'https://timesofindia.indiatimes.com/india/bjp-expels-functionary-after-video-of-restaurant-owners-apology-to-sitharaman-sparks-outrage/articleshow/113351118.cms', 'displayLink': 'timesofindia.indiatimes.com', 'snippet': 'Sep 14, 2024 ... India News: BJP expelled a functionary after a video of a restaurant ... India News - Times of India. About usPrivacy policyTerms of Use and Grievance\\xa0...', 'htmlSnippet': 'Sep 14, 2024 <b>...</b> India News: <b>BJP</b> expelled a functionary after a video of a restaurant ... India News - <b>Times of India</b>. About usPrivacy policyTerms of Use and Grievance&nbsp;...', 'formattedUrl': 'https://timesofindia.indiatimes.com/india/bjp...of.../113351118.cms', 'htmlFormattedUrl': 'https://<b>timesofindia</b>.<b>indiatimes</b>.com/<b>india</b>/<b>bjp</b>...of.../113351118.cms', 'pagemap': {'cse_thumbnail': [{'src': 'https://encrypted-tbn0.gstatic.com/images?q=tbn:ANd9GcRp635A4OkyDhdG332H6O5gXPqcGFLw2DLwuc2-b-J4gzYuNeAWNM5DMls&s', 'width': '305', 'height': '165'}], 'imageobject': [{'width': '600', 'url': 'https://static.toiimg.com/photo/msid-58127550/toilogo.jpg', 'height': '60'}], 'organization': [{'name': 'Times of India', 'url': 'https://timesofindia.indiatimes.com'}], 'metatags': [{'og:image': 'https://static.toiimg.com/thumb/msid-113351810,width-1070,height-580,imgsize-22752,resizemode-75,overlay-toi_sw,pt-32,y_pad-40/photo.jpg', 'twitter:title': \"BJP expels functionary after video of restaurant owner's apology to Sitharaman sparks outrage | India News - Times of India\", 'og:image:width': '1070', 'theme-color': '#af2c2c', 'og:type': 'article', 'og:site_name': 'The Times of India', 'handheldfriendly': 'true', 'twitter:url': 'https://timesofindia.indiatimes.com/india/bjp-expels-functionary-after-video-of-restaurant-owners-apology-to-sitharaman-sparks-outrage/articleshow/113351118.cms', 'the times of india': 'app-id=427589329,app-argument=https://timesofindia.indiatimes.com/india/bjp-expels-functionary-after-video-of-restaurant-owners-apology-to-sitharaman-sparks-outrage/articleshow/113351118.cms', 'og:title': \"BJP expels functionary after video of restaurant owner's apology to Sitharaman sparks outrage | India News - Times of India\", 'og:image:height': '580', 'y_key': 'b1abb36a8d5c19c9', 'og:description': 'India News: BJP expelled a functionary after a video of a restaurant owner apologizing to Finance Minister Nirmala Sitharaman went viral. The owner humorously cri', 'fb:pages': '26781952138', 'twitter:image': 'https://static.toiimg.com/thumb/msid-113351810,width-1070,height-580,imgsize-22752,resizemode-75,overlay-toi_sw,pt-32,y_pad-40/photo.jpg', 'fb:app_id': '117787264903013', 'viewport': 'width=device-width, initial-scale=1, maximum-scale=1', 'news_keywords': 'India, News, Google News, India Breaking News, India news, Live News India, Top news in India,small business,Rahul Gandhi,Nirmala Sitharaman,GST,BJP', 'twitter:description': 'India News: BJP expelled a functionary after a video of a restaurant owner apologizing to Finance Minister Nirmala Sitharaman went viral. The owner humorously cri', 'apple-mobile-web-app-capable': 'yes', 'mobileoptimized': 'width', 'mobile-web-app-capable': 'yes', 'og:url': 'https://timesofindia.indiatimes.com/india/bjp-expels-functionary-after-video-of-restaurant-owners-apology-to-sitharaman-sparks-outrage/articleshow/113351118.cms'}], 'cse_image': [{'src': 'https://static.toiimg.com/thumb/msid-113351810,width-1070,height-580,imgsize-22752,resizemode-75,overlay-toi_sw,pt-32,y_pad-40/photo.jpg'}], 'listitem': [{'item': 'News', 'name': 'News', 'position': '1'}, {'item': 'India News', 'name': 'India News', 'position': '2'}]}}, {'kind': 'customsearch#result', 'title': \"Is India's BJP the world's most ruthlessly efficient political party?\", 'htmlTitle': 'Is <b>India&#39;s BJP</b> the world&#39;s most ruthlessly efficient political party?', 'link': 'https://www.ft.com/content/d5a1dfaa-ecfb-45c5-b60d-458f89228ea3', 'displayLink': 'www.ft.com', 'snippet': 'Apr 16, 2024 ... “When the BJP comes back to power this time, I am very sure India will be declared a Hindu nation. I want that to happen because then no minority can crush us.”.', 'htmlSnippet': 'Apr 16, 2024 <b>...</b> “When the <b>BJP</b> comes back to power this <b>time</b>, I am very sure <b>India</b> will be declared a Hindu nation. I want that to happen because then no minority can crush us.”.', 'formattedUrl': 'https://www.ft.com/content/d5a1dfaa-ecfb-45c5-b60d-458f89228ea3', 'htmlFormattedUrl': 'https://www.ft.com/content/d5a1dfaa-ecfb-45c5-b60d-458f89228ea3', 'pagemap': {'cse_thumbnail': [{'src': 'https://encrypted-tbn0.gstatic.com/images?q=tbn:ANd9GcQCx0FylEr1q-kfOG4Fk_wcsTlmBg6sIGks6VcKi2vWCCEzUYBF7pt1vqwy&s', 'width': '299', 'height': '168'}], 'metatags': [{'og:image': 'https://www.ft.com/__origami/service/image/v2/images/raw/https%3A%2F%2Fd1e00ek4ebabms.cloudfront.net%2Fproduction%2F84c0b12d-c866-4f31-87d6-d27b7ce5928d.jpg?source=next-article&fit=scale-down&quality=highest&width=700&dpr=1', 'apple-itunes-app': 'app-id=1200842933, app-argument=https://www.ft.com/content/d5a1dfaa-ecfb-45c5-b60d-458f89228ea3', 'twitter:card': 'summary_large_image', 'og:type': 'article', 'article:published_time': '2024-04-17T04:00:27.632Z', 'og:title': 'Is India’s BJP the world’s most ruthlessly efficient political party?', 'fb:pages': '8860325749', 'og:description': 'Prime Minister Narendra Modi’s party has built one of the most formidable electoral machines in recent history', 'article:author': 'Benjamin Parkin', 'twitter:image': 'https://www.ft.com/__origami/service/image/v2/images/raw/https%3A%2F%2Fd1e00ek4ebabms.cloudfront.net%2Fproduction%2F84c0b12d-c866-4f31-87d6-d27b7ce5928d.jpg?source=next-article&fit=scale-down&quality=highest&width=700&dpr=1', 'article:tag': 'The Big Read', 'twitter:site': '@FinancialTimes', 'article:modified_time': '2024-04-17T04:00:27.632Z', 'viewport': 'width=device-width, initial-scale=1', 'og:url': 'https://www.ft.com/content/d5a1dfaa-ecfb-45c5-b60d-458f89228ea3'}], 'cse_image': [{'src': 'https://www.ft.com/__origami/service/image/v2/images/raw/https%3A%2F%2Fd1e00ek4ebabms.cloudfront.net%2Fproduction%2F84c0b12d-c866-4f31-87d6-d27b7ce5928d.jpg?source=next-article&fit=scale-down&quality=highest&width=700&dpr=1'}]}}, {'kind': 'customsearch#result', 'title': 'Delhi exit poll results 2025: Pollsters predict BJP comeback, trouble ...', 'htmlTitle': 'Delhi exit poll results 2025: Pollsters predict <b>BJP</b> comeback, trouble ...', 'link': 'https://timesofindia.indiatimes.com/india/delhi-exit-poll-results-2025-pollsters-predict-bjp-comeback-trouble-for-aap-in-delhi-elections/articleshow/117951823.cms', 'displayLink': 'timesofindia.indiatimes.com', 'snippet': 'Feb 5, 2025 ... Delhi exit poll results 2025: Pollsters predict BJP comeback, trouble for AAP in Delhi elections. TOI News Desk / TIMESOFINDIA.COM / Updated: Feb 5, 2025, 19:51\\xa0...', 'htmlSnippet': 'Feb 5, 2025 <b>...</b> Delhi exit poll results 2025: Pollsters predict <b>BJP</b> comeback, trouble for AAP in Delhi elections. <b>TOI</b> News Desk / TIMESOFINDIA.COM / Updated: Feb 5, 2025, 19:51&nbsp;...', 'formattedUrl': 'https://timesofindia.indiatimes.com/india/...bjp...in.../117951823.cms', 'htmlFormattedUrl': 'https://<b>timesofindia</b>.<b>indiatimes</b>.com/<b>india</b>/...<b>bjp</b>...in.../117951823.cms', 'pagemap': {'cse_thumbnail': [{'src': 'https://encrypted-tbn0.gstatic.com/images?q=tbn:ANd9GcScBRHvugTAjeZZwHwzEs9Fr22H1itmbeblOXftASktlB50dBkcf3I8bogL&s', 'width': '305', 'height': '165'}], 'imageobject': [{'width': '600', 'url': 'https://static.toiimg.com/photo/msid-58127550/toilogo.jpg', 'height': '60'}], 'organization': [{'name': 'Times of India', 'url': 'https://timesofindia.indiatimes.com'}], 'metatags': [{'og:image': 'https://static.toiimg.com/thumb/msid-117952156,width-1070,height-580,imgsize-1703405,resizemode-75,overlay-toi_sw,pt-32,y_pad-40/photo.jpg', 'twitter:title': 'Delhi exit poll results 2025: Pollsters predict BJP comeback, trouble for AAP in Delhi elections | India News - The Times of India', 'og:image:width': '1070', 'theme-color': '#af2c2c', 'og:type': 'article', 'og:site_name': 'The Times of India', 'handheldfriendly': 'true', 'twitter:url': 'https://timesofindia.indiatimes.com/india/delhi-exit-poll-results-2025-pollsters-predict-bjp-comeback-trouble-for-aap-in-delhi-elections/articleshow/117951823.cms', 'the times of india': 'app-id=427589329,app-argument=https://timesofindia.indiatimes.com/india/delhi-exit-poll-results-2025-pollsters-predict-bjp-comeback-trouble-for-aap-in-delhi-elections/articleshow/117951823.cms', 'og:title': 'Delhi exit poll results 2025: Pollsters predict BJP comeback, trouble for AAP in Delhi elections | India News - The Times of India', 'og:image:height': '580', 'y_key': 'b1abb36a8d5c19c9', 'og:description': 'India News: Exit polls for the 2025 Delhi assembly elections on Wednesday predicted that the BJP will likely pull off a major upset and secure a majority in the l.', 'fb:pages': '26781952138', 'twitter:image': 'https://static.toiimg.com/thumb/msid-117952156,width-1070,height-580,imgsize-1703405,resizemode-75,overlay-toi_sw,pt-32,y_pad-40/photo.jpg', 'fb:app_id': '117787264903013', 'viewport': 'width=device-width, initial-scale=1, maximum-scale=1', 'news_keywords': 'India, News, Google News, India Breaking News, India news, Live News India, Top news in India,exit polls,delhi exit polls,bjp,arvind kejriwal,aap', 'twitter:description': 'India News: Exit polls for the 2025 Delhi assembly elections on Wednesday predicted that the BJP will likely pull off a major upset and secure a majority in the l.', 'apple-mobile-web-app-capable': 'yes', 'mobileoptimized': 'width', 'mobile-web-app-capable': 'yes', 'og:url': 'https://timesofindia.indiatimes.com/india/delhi-exit-poll-results-2025-pollsters-predict-bjp-comeback-trouble-for-aap-in-delhi-elections/articleshow/117951823.cms'}], 'cse_image': [{'src': 'https://static.toiimg.com/thumb/msid-117952156,width-1070,height-580,imgsize-1703405,resizemode-75,overlay-toi_sw,pt-32,y_pad-40/photo.jpg'}], 'listitem': [{'item': 'News', 'name': 'News', 'position': '1'}, {'item': 'India News', 'name': 'India News', 'position': '2'}]}}, {'kind': 'customsearch#result', 'title': \"Elections 2024 Result LIVE: India's Biggest Election Coverage With ...\", 'htmlTitle': 'Elections 2024 Result LIVE: <b>India&#39;s</b> Biggest Election Coverage With ...', 'link': 'https://www.youtube.com/watch?v=LgwfiWZmNwU', 'displayLink': 'www.youtube.com', 'snippet': \"Jun 1, 2024 ... Elections 2024 Result LIVE: India's Biggest Election Coverage With Times Now, BJP Vs Congress. #live #loksabhaelections2024 #Indiaelection2024\\xa0...\", 'htmlSnippet': 'Jun 1, 2024 <b>...</b> Elections 2024 Result LIVE: <b>India&#39;s</b> Biggest Election Coverage With <b>Times</b> Now, <b>BJP</b> Vs Congress. #live #loksabhaelections2024 #Indiaelection2024&nbsp;...', 'formattedUrl': 'https://www.youtube.com/watch?v=LgwfiWZmNwU', 'htmlFormattedUrl': 'https://www.youtube.com/watch?v=LgwfiWZmNwU', 'pagemap': {'cse_thumbnail': [{'src': 'https://encrypted-tbn0.gstatic.com/images?q=tbn:ANd9GcTZr5LoBhaMm3bgJFsxtWICYSrOQQB2n07d-IT69q7eryz8XUXO2rcMpfY&s', 'width': '299', 'height': '168'}], 'VideoObject': [{}], 'metatags': [{'apple-itunes-app': 'app-id=544007664, app-argument=https://m.youtube.com/watch?v=LgwfiWZmNwU&referring_app=com.apple.mobilesafari-smartbanner, affiliate-data=ct=smart_app_banner_polymer&pt=9008', 'theme-color': 'rgba(0, 0, 0, 0)', 'viewport': 'width=device-width, initial-scale=1.0, minimum-scale=1.0, maximum-scale=1.0, user-scalable=no,', 'twitter:url': 'https://www.youtube.com/watch?v=LgwfiWZmNwU', 'og:url': 'https://www.youtube.com/watch?v=LgwfiWZmNwU'}], 'cse_image': [{'src': 'https://i.ytimg.com/vi/7PYQLEtuoGw/hq720.jpg?sqp=-oaymwEhCK4FEIIDSFryq4qpAxMIARUAAAAAGAElAADIQj0AgKJD&rs=AOn4CLDkLXqcYS8tKJ86k2FVRjGkNYQFIw'}]}}, {'kind': 'customsearch#result', 'title': \"India's Election Results: 5 Surprising Takeaways | TIME\", 'htmlTitle': '<b>India&#39;s</b> Election Results: 5 Surprising Takeaways | <b>TIME</b>', 'link': 'https://time.com/6985897/indias-election-results-takeaways/', 'displayLink': 'time.com', 'snippet': 'Jun 5, 2024 ... The BJP won only 240 seats this election, effectively losing the single-party majority Modi has enjoyed since he was first elected in 2014.', 'htmlSnippet': 'Jun 5, 2024 <b>...</b> The <b>BJP</b> won only 240 seats this election, effectively losing the single-party majority Modi has enjoyed since he was first elected in 2014.', 'formattedUrl': 'https://time.com/6985897/indias-election-results-takeaways/', 'htmlFormattedUrl': 'https://time.com/6985897/<b>india</b>s-election-results-takeaways/', 'pagemap': {'cse_thumbnail': [{'src': 'https://encrypted-tbn0.gstatic.com/images?q=tbn:ANd9GcRl1y9zsgWTtXuToc-KzCRY_HUVf4F5cMVqk5aWv7sTDCrXy-n6gneBNX4&s', 'width': '299', 'height': '168'}], 'metatags': [{'pinterest:description': 'After six long weeks of voting in the grueling heat, India’s election delivered stunning results.', 'og:image': 'https://api.time.com/wp-content/uploads/2024/06/AP24156253116593.jpg?quality=85&w=1200&h=628&crop=1', 'theme-color': '#e90606', 'article:published_time': '2024-06-05T17:44:47', 'og:image:width': '1200', 'twitter:card': 'summary_large_image', 'og:site_name': 'TIME', 'og:description': 'After six long weeks of voting in the grueling heat, India’s election delivered stunning results.', 'twitter:creator': '@astharajvanshi', 'twitter:image': 'https://api.time.com/wp-content/uploads/2024/06/AP24156253116593.jpg?quality=85&w=1200&h=628&crop=1', 'twitter:site': '@TIME', 'pinterest:media': 'https://api.time.com/wp-content/uploads/2024/06/AP24156253116593.jpg?quality=85&w=1200&h=628&crop=1', 'article:content_tier': 'free', 'pinterest:url': 'https://time.com/6985897/indias-election-results-takeaways/', 'application-name': 'nextgen', 'creator': 'Astha Rajvanshi', 'og:type': 'article', 'twitter:title': \"India's Election Results: 5 Surprising Takeaways\", 'author': 'Astha Rajvanshi', 'og:title': \"India's Election Results: 5 Surprising Takeaways\", 'og:image:height': '628', 'fb:pages': '10606591490', 'fb:app_id': '991230477954201', 'viewport': 'width=device-width, initial-scale=1', 'twitter:description': 'After six long weeks of voting in the grueling heat, India’s election delivered stunning results.', 'primary-tag': 'india', 'amphtml': 'https://time.com/6985897/indias-election-results-takeaways/?amp=true', 'category': 'World', 'og:url': 'https://time.com/6985897/indias-election-results-takeaways/', 'article:opinion': 'false', 'format-detection': 'telephone=no'}], 'cse_image': [{'src': 'https://cdn.jwplayer.com/v2/media/BM69wZRk/poster.jpg?width=720'}]}}, {'kind': 'customsearch#result', 'title': 'Modi set to take oath for the third time on June 8 as allies pledge ...', 'htmlTitle': 'Modi set to take oath for the third <b>time</b> on June 8 as allies pledge ...', 'link': 'https://www.reuters.com/world/india/indias-modi-allies-meet-after-humbling-election-verdict-2024-06-05/', 'displayLink': 'www.reuters.com', 'snippet': \"Jun 5, 2024 ... Indian PM Modi to take oath for third term likely on June 8 · Modi's BJP loses majority, allies' support crucial to rule · Election results may impact reform\\xa0...\", 'htmlSnippet': 'Jun 5, 2024 <b>...</b> <b>Indian</b> PM Modi to take oath for third term likely on June 8 &middot; Modi&#39;s <b>BJP</b> loses majority, allies&#39; support crucial to rule &middot; Election results may impact reform&nbsp;...', 'formattedUrl': 'https://www.reuters.com/.../india/indias-modi-allies-meet-after-humbling-el...', 'htmlFormattedUrl': 'https://www.reuters.com/.../<b>india</b>/<b>india</b>s-modi-allies-meet-after-humbling-el...', 'pagemap': {'cse_thumbnail': [{'src': 'https://encrypted-tbn0.gstatic.com/images?q=tbn:ANd9GcTvllrKh1XoxkFivGSNgWzKmtNWDdMW1Lzk1zx8aGoxJEVvuabQI0c7LCY&s', 'width': '310', 'height': '162'}], 'metatags': [{'apple-itunes-app': 'app-id=602660809, app-argument=https://www.reuters.com/world/india/indias-modi-allies-meet-after-humbling-election-verdict-2024-06-05/?id=PBJGTR45CJL2BEWYWUEYAI4GEU', 'og:image': 'https://www.reuters.com/resizer/v2/QQ32R7OLP5L57PSQNV6FXFMDRQ.jpg?auth=aacfd1eb272120a91a7499abac229fbfda33739dccdc4d4268c2564b0a33659e&height=1005&width=1920&quality=80&smart=true', 'analytics:page_layout': 'regular-article', 'article:published_time': '2024-06-05T19:00:37Z', 'og:image:width': '1200', 'twitter:card': 'summary_large_image', 'og:site_name': 'Reuters', 'og:article:modified_time': '2024-06-05T19:01:14.691Z', 'ccbot': 'nofollow', 'analytics:ad_layout': 'leaderboard, right rail, sponsored', 'analyticsattributes.topicchannel': 'World', 'title': 'Modi set to take oath for the third time on June 8 as allies pledge support | Reuters', 'og:description': \"Indian Prime Minister Narendra Modi's National Democratic Alliance (NDA) formally named him on Wednesday to lead a new coalition government for a third straight term, a day after it regained power with a surprisingly slim majority.\", 'twitter:creator': '@Reuters', 'twitter:image': 'https://www.reuters.com/resizer/v2/QQ32R7OLP5L57PSQNV6FXFMDRQ.jpg?auth=aacfd1eb272120a91a7499abac229fbfda33739dccdc4d4268c2564b0a33659e&height=1005&width=1920&quality=80&smart=true', 'twitter:image:alt': 'Indian Prime Minister Narendra Modi gestures as he arrives at Bharatiya Janata Party (BJP) headquarters in New Delhi, India, June 4, 2024. REUTERS/Adnan Abidi', 'twitter:site': '@Reuters', 'article:modified_time': '2024-06-05T19:01:14.691Z', 'fb:admins': '988502044532272', 'article:content_tier': 'metered', 'og:type': 'article', 'article:section': 'India', 'og:image:alt': 'Indian Prime Minister Narendra Modi gestures as he arrives at Bharatiya Janata Party (BJP) headquarters in New Delhi, India, June 4, 2024. REUTERS/Adnan Abidi', 'twitter:title': 'Modi set to take oath for the third time on June 8 as allies pledge support', 'ad:template': 'article', 'og:image:url': 'https://www.reuters.com/resizer/v2/QQ32R7OLP5L57PSQNV6FXFMDRQ.jpg?auth=aacfd1eb272120a91a7499abac229fbfda33739dccdc4d4268c2564b0a33659e&height=1005&width=1920&quality=80&smart=true', 'dcsext.dartzone': '/4735792/reuters.com/world/india/article', 'og:title': 'Modi set to take oath for the third time on June 8 as allies pledge support', 'dcsext.channellist': 'World;World;India', 'og:image:height': '628', 'og:article:published_time': '2024-06-05T19:00:37Z', 'og:updated_time': '2024-06-05T19:01:14.691Z', 'fb:pages': '114050161948682', 'article:author': 'Rishika Sadam,Sarita Chaganti Singh,Manoj Kumar', 'article:tag': 'RULES:ELECTION-EXCLUDE-USA,RULES:INDIA-ELECTION,GEN,NEWS1,POL,VOTE,VOTH,SASIA,IN,ASXPAC,EMRG,ASIA,PACKAGE:US-TOP-NEWS,PACKAGE:WORLD-NEWS,MTVID,MTPIX,TOPNWS,DIP,TOPCMB,CWP,ECO,MCE,MMT,SECUR,TRD', 'analyticsattributes.topicsubchannel': 'India', 'fb:app_id': '988502044532272', 'og:locale:alternate': 'en_US', 'viewport': 'width=device-width, initial-scale=1', 'twitter:description': \"Indian Prime Minister Narendra Modi's National Democratic Alliance (NDA) formally named him on Wednesday to lead a new coalition government for a third straight term, a day after it regained power with a surprisingly slim majority.\", 'og:locale': 'en_US', 'og:url': 'https://www.reuters.com/world/india/indias-modi-allies-meet-after-humbling-election-verdict-2024-06-05/'}], 'cse_image': [{'src': 'https://www.reuters.com/resizer/v2/QQ32R7OLP5L57PSQNV6FXFMDRQ.jpg?auth=aacfd1eb272120a91a7499abac229fbfda33739dccdc4d4268c2564b0a33659e&height=1005&width=1920&quality=80&smart=true'}]}}]}\n"
          ]
        }
      ],
      "source": [
        "query = 'bjp times of india'\n",
        "url = 'https://www.googleapis.com/customsearch/v1'\n",
        "params = {\n",
        "    'q': query,\n",
        "    'key': api_key,\n",
        "    'cx': search_engine_id,\n",
        "    \"dateRestrict\": \"y1\",\n",
        "    \"tbm\": \"nws\"\n",
        "}\n",
        "html = requests.get(url, params=params)\n",
        "result = html.json()\n",
        "print(result)"
      ]
    },
    {
      "cell_type": "code",
      "execution_count": 48,
      "metadata": {
        "colab": {
          "base_uri": "https://localhost:8080/"
        },
        "id": "qAiJa8yoecUO",
        "outputId": "b137c153-49f6-4d04-a54f-6db3c3a0a5c6"
      },
      "outputs": [
        {
          "data": {
            "text/plain": [
              "['https://timesofindia.indiatimes.com/india/drama-pr-stunt-how-bjp-reacted-to-kejriwal-announcing-to-resign-as-delhi-cm/articleshow/113368962.cms',\n",
              " 'https://en.wikipedia.org/wiki/Bharatiya_Janata_Party',\n",
              " 'https://timesofindia.indiatimes.com/india/hindi-is-not-national-language-ravichandran-ashwin-at-college-event-in-tamil-nadu/articleshow/117122362.cms',\n",
              " 'https://www.nytimes.com/interactive/2024/06/07/world/asia/india-election-map.html',\n",
              " 'https://timesofindia.indiatimes.com/india/bjp-expels-functionary-after-video-of-restaurant-owners-apology-to-sitharaman-sparks-outrage/articleshow/113351118.cms',\n",
              " 'https://www.ft.com/content/d5a1dfaa-ecfb-45c5-b60d-458f89228ea3',\n",
              " 'https://timesofindia.indiatimes.com/india/delhi-exit-poll-results-2025-pollsters-predict-bjp-comeback-trouble-for-aap-in-delhi-elections/articleshow/117951823.cms',\n",
              " 'https://www.youtube.com/watch?v=LgwfiWZmNwU',\n",
              " 'https://time.com/6985897/indias-election-results-takeaways/',\n",
              " 'https://www.reuters.com/world/india/indias-modi-allies-meet-after-humbling-election-verdict-2024-06-05/']"
            ]
          },
          "execution_count": 48,
          "metadata": {},
          "output_type": "execute_result"
        }
      ],
      "source": [
        "list(result.keys())\n",
        "links = []\n",
        "\n",
        "if 'items' in list(result.keys()):\n",
        "    for element in result['items']:\n",
        "        links.append(element['link'])\n",
        "\n",
        "links"
      ]
    },
    {
      "cell_type": "code",
      "execution_count": 20,
      "metadata": {
        "id": "NA18ZAKCeeQg"
      },
      "outputs": [],
      "source": [
        "# For bbc content --> WORKING\n",
        "def bbc(url):\n",
        "  bbc_html = requests.get(url)\n",
        "  soup = BeautifulSoup(bbc_html.text, 'html.parser')\n",
        "  text_blocks = soup.find_all(attrs={'data-component': 'text-block'})\n",
        "  texts = ''\n",
        "  for ele in text_blocks:\n",
        "    texts += ele.get_text()\n",
        "  return texts"
      ]
    },
    {
      "cell_type": "code",
      "execution_count": 44,
      "metadata": {
        "collapsed": true,
        "id": "geA-2DorntuR"
      },
      "outputs": [],
      "source": [
        "# For Times Of India --> WORKING\n",
        "def toi(url):\n",
        "  toi_html = requests.get(url)\n",
        "  soup = BeautifulSoup(toi_html.text, 'html.parser')\n",
        "  text_blocks = soup.find_all(attrs={'data-articlebody': '1'})\n",
        "  texts = ''\n",
        "  for ele in text_blocks:\n",
        "    texts += ele.get_text()\n",
        "  return texts\n"
      ]
    },
    {
      "cell_type": "code",
      "execution_count": 37,
      "metadata": {
        "colab": {
          "base_uri": "https://localhost:8080/"
        },
        "collapsed": true,
        "id": "jvAnzQG5qllh",
        "outputId": "15b9dfdb-ce64-4924-cf1e-bf4404169e8a"
      },
      "outputs": [
        {
          "data": {
            "text/plain": [
              "[<div class=\"leftpanel\">\n",
              " <div class=\"top-section\">\n",
              " <nav aria-label=\"Breadcrumb\" class=\"ie-breadcrumb\" id=\"ie-breadcrumb\">\n",
              " <ol class=\"m-breadcrumb\">\n",
              " <li><a href=\"https://indianexpress.com/\" rel=\"noamphtml\">News</a></li><li><a href=\"https://indianexpress.com/about/\" rel=\"noamphtml\">About</a></li><li><span aria-current=\"page\">Manish Sisodia</span></li> </ol>\n",
              " </nav>\n",
              " <h1>Manish Sisodia</h1> <div class=\"mainbox election-main state-col\">\n",
              " </div>\n",
              " </div>\n",
              " <div class=\"social-icons icons-about\">\n",
              " <div class=\"append_social_share\">\n",
              " <div class=\"m-story-meta__share-actions hide_utm_paytm\">\n",
              " <ul class=\"ie-share__icons\">\n",
              " <li class=\"ss-icon\">\n",
              " <span class=\"a-share-btn\" data-href=\"https://www.facebook.com/sharer.php?u=https%3A%2F%2Findianexpress.com%2Fabout%2Fmanish-sisodia%2F\" data-ie-event-action=\"click\" data-ie-event-category=\"Facebook\" data-ie-event-label=\"https://indianexpress.com/about/manish-sisodia/\" data-social-sharing-facebook=\"\" rel=\"nofollow\" target=\"_blank\" title=\"Facebook\">\n",
              " <i class=\"fb\"><img alt=\"\" height=\"26\" loading=\"lazy\" src=\"https://indianexpress.com/wp-content/themes/indianexpress/images/icon-fb.svg\" width=\"14\"/></i>\n",
              " </span>\n",
              " </li>\n",
              " <li class=\"ss-icon\">\n",
              " <span class=\"a-share-btn\" data-href=\"https://twitter.com/share?url=&amp;text=Manish%20Sisodia&amp;via=IndianExpress\" data-ie-event-action=\"click\" data-ie-event-category=\"Twitter\" data-ie-event-label=\"https://indianexpress.com/about/manish-sisodia/\" data-social-sharing-twitter=\"\" rel=\"nofollow\" target=\"_blank\" title=\"Twitter\">\n",
              " <i class=\"twit\"><img alt=\"\" height=\"24\" loading=\"lazy\" src=\"https://indianexpress.com/wp-content/themes/indianexpress/images/x-story.svg\" width=\"26\"/></i>\n",
              " </span>\n",
              " </li>\n",
              " <li class=\"ss-icon\">\n",
              " <span class=\"a-share-btn\" data-href=\"https://www.reddit.com/submit?url=https%3A%2F%2Findianexpress.com%2Fabout%2Fmanish-sisodia%2F&amp;title=Manish%20Sisodia\" data-ie-event-action=\"click\" data-ie-event-category=\"Reddit\" data-ie-event-label=\"https://indianexpress.com/about/manish-sisodia/\" data-social-sharing-reddit=\"\" rel=\"nofollow\" target=\"_blank\" title=\"Reddit\">\n",
              " <i class=\"reddit\"><img alt=\"\" height=\"24\" loading=\"lazy\" src=\"https://indianexpress.com/wp-content/themes/indianexpress/images/black-icon-reddit.svg\" width=\"26\"/></i>\n",
              " </span>\n",
              " </li>\n",
              " </ul>\n",
              " </div>\n",
              " </div>\n",
              " </div>\n",
              " <div class=\"search-tabs\">\n",
              " <div class=\"listing\">\n",
              " <ul>\n",
              " <li class=\"current\">\n",
              " <a class=\"scrollLink\" href=\"#AboutNews\">News</a>\n",
              " </li>\n",
              " <li class=\"\">\n",
              " <a class=\"scrollLink\" href=\"#AboutPhotos\">Photos</a>\n",
              " </li>\n",
              " <li class=\"\">\n",
              " <a class=\"scrollLink\" href=\"#AboutVideos\">Videos</a>\n",
              " </li>\n",
              " </ul>\n",
              " </div>\n",
              " </div>\n",
              " <div class=\"search-result\" id=\"AboutNews\">\n",
              " <input id=\"tag_id\" name=\"tag_id\" type=\"hidden\" value=\"62737065\"/>\n",
              " <input id=\"load-tag-data-ajax-nonce\" name=\"load-tag-data-ajax-nonce\" type=\"hidden\" value=\"7bf95eb7ce\"> <div id=\"tag_article\">\n",
              " <h2 class=\"listing-title\">MANISH SISODIA NEWS</h2> <div class=\"details\">\n",
              " <div class=\"about-thumb\">\n",
              " <a href=\"https://indianexpress.com/article/cities/delhi/remove-manish-sisodias-y-category-cover-delhi-police-to-security-unit-9885817/\">\n",
              " <img alt=\"Manish Sisodia security category cover, Manish Sisodia security category cover, Tarvinder Singh Marwah, delhi news, India news, Indian express, current affairs\" class=\"lazyloading\" data-src=\"https://images.indianexpress.com/2025/03/Sisodia-New-3col.jpg?w=270\" height=\"152\" src=\"https://indianexpress.com/wp-content/themes/indianexpress/images/default-ie.jpg\" width=\"270\"/> </a>\n",
              " </div>\n",
              " <div class=\"img-context\">\n",
              " <h3 class=\"\"><a href=\"https://indianexpress.com/article/cities/delhi/remove-manish-sisodias-y-category-cover-delhi-police-to-security-unit-9885817/\" title=\"Remove Manish Sisodia’s ‘Y’ category cover: Delhi Police to security unit\">Remove Manish Sisodia’s ‘Y’ category cover: Delhi Police to security unit</a></h3><p>March 14, 2025 4:20 am</p><p></p> </div>\n",
              " </div>\n",
              " <div class=\"details\">\n",
              " <div class=\"about-thumb\">\n",
              " <a href=\"https://indianexpress.com/article/cities/delhi/president-droupadi-murmu-fir-manish-sisodia-satyendar-jain-classroom-scam-9885410/\">\n",
              " <img alt=\"droupadi murmu, satyendar jain, manish sisodia,\" class=\"lazyloading\" data-src=\"https://images.indianexpress.com/2025/03/sisodia-jain.jpg?w=270\" height=\"152\" src=\"https://indianexpress.com/wp-content/themes/indianexpress/images/default-ie.jpg\" width=\"270\"/> </a>\n",
              " </div>\n",
              " <div class=\"img-context\">\n",
              " <h3 class=\"\"><a href=\"https://indianexpress.com/article/cities/delhi/president-droupadi-murmu-fir-manish-sisodia-satyendar-jain-classroom-scam-9885410/\" title=\"MHA nod to prosecute AAP’s Sisodia, Jain in classroom construction case\">MHA nod to prosecute AAP’s Sisodia, Jain in classroom construction case</a></h3><p>March 14, 2025 4:00 am</p><p>In 2022, the Delhi government's vigilance directorate recommended a probe into the alleged scam and submitted a report to the chief secretary.</p> </div>\n",
              " </div>\n",
              " <div class=\"details\">\n",
              " <div class=\"about-thumb\">\n",
              " <a href=\"https://indianexpress.com/article/cities/chandigarh/manish-sisodia-punjab-visit-delhi-assembly-polls-9843734/\">\n",
              " <img alt=\"Manish Sisodia, punjab\" class=\"lazyloading\" data-src=\"https://images.indianexpress.com/2025/02/punjab-sisosia.jpg?w=270\" height=\"152\" src=\"https://indianexpress.com/wp-content/themes/indianexpress/images/default-ie.jpg\" width=\"270\"/> </a>\n",
              " </div>\n",
              " <div class=\"img-context\">\n",
              " <h3 class=\"\"><a href=\"https://indianexpress.com/article/cities/chandigarh/manish-sisodia-punjab-visit-delhi-assembly-polls-9843734/\" title=\"Manish Sisodia’s visit to Punjab schools irks teachers' union: 'an interference in state's affairs'\">Manish Sisodia’s visit to Punjab schools irks teachers' union: 'an interference in state's affairs'</a></h3><p>February 19, 2025 8:28 am</p><p>DTF says “Mann govt is acting as 'the junior partner to the party's Delhi leadership'</p> </div>\n",
              " </div>\n",
              " <div class=\"details\">\n",
              " <div class=\"about-thumb\">\n",
              " <a href=\"https://indianexpress.com/article/political-pulse/manish-sisodia-to-arvind-kejriwal-aap-lost-9-tight-fights-to-bjp-won-four-9825501/\">\n",
              " <img alt=\"Manish Sisodia, Arvind Kejriwal, Delhi Assembly elections, Delhi Assembly polls, aap, Delhi BJP, Aam Aadmi Party AAP, delhi news, India news, Indian express, current affairs\" class=\"lazyloading\" data-src=\"https://images.indianexpress.com/2025/02/win-bjp.jpg?w=270\" height=\"152\" src=\"https://indianexpress.com/wp-content/themes/indianexpress/images/default-ie.jpg\" width=\"270\"/> </a>\n",
              " </div>\n",
              " <div class=\"img-context\">\n",
              " <h3 class=\"\"><a href=\"https://indianexpress.com/article/political-pulse/manish-sisodia-to-arvind-kejriwal-aap-lost-9-tight-fights-to-bjp-won-four-9825501/\" title=\"Manish Sisodia to Arvind Kejriwal, AAP lost 9 tight fights to BJP, won four\">Manish Sisodia to Arvind Kejriwal, AAP lost 9 tight fights to BJP, won four</a></h3><p>February 09, 2025 5:25 pm</p><p>In 13 Delhi contests where the victory margin was under 5,000 votes, BJP's closest win came in Sangam Vihar, where its candidate Chandan Choudhary defeated sitting AAP MLA Dinesh Mohaniya by 344 votes\n",
              " \n",
              " </p> </div>\n",
              " </div>\n",
              " <div class=\"details\">\n",
              " <div class=\"about-thumb\">\n",
              " <a href=\"https://indianexpress.com/article/cities/delhi/aap-ousted-congress-stuck-at-zero-voters-hand-over-delhi-keys-to-bjp-after-27-years-9825626/\">\n",
              " <img alt=\"narendra modi, delhi election win, bjp\" class=\"lazyloading\" data-src=\"https://images.indianexpress.com/2025/02/narendra-modi-1600-1-1.jpg?w=270\" height=\"152\" src=\"https://indianexpress.com/wp-content/themes/indianexpress/images/default-ie.jpg\" width=\"270\"/> </a>\n",
              " </div>\n",
              " <div class=\"img-context\">\n",
              " <h3 class=\"\"><a href=\"https://indianexpress.com/article/cities/delhi/aap-ousted-congress-stuck-at-zero-voters-hand-over-delhi-keys-to-bjp-after-27-years-9825626/\" title=\"Delhi Election Results 2025: AAP ousted, Congress stuck at zero, voters hand over Delhi keys to BJP after 27 years\">Delhi Election Results 2025: AAP ousted, Congress stuck at zero, voters hand over Delhi keys to BJP after 27 years</a></h3><p>February 09, 2025 8:40 am</p><p>5-fold jump in BJP seats: PM promises to build modern city</p> </div>\n",
              " </div>\n",
              " <div class=\"details\">\n",
              " <div class=\"about-thumb\">\n",
              " <a href=\"https://indianexpress.com/article/cities/delhi/manish-sisodia-jangpura-aap-bjp-tarvinder-singh-marwah-9824744/\">\n",
              " <img alt=\"Tarvinder Singh Marwah\" class=\"lazyloading\" data-src=\"https://images.indianexpress.com/2025/02/Feb1-71.jpg?w=270\" height=\"152\" src=\"https://indianexpress.com/wp-content/themes/indianexpress/images/default-ie.jpg\" width=\"270\"/> </a>\n",
              " </div>\n",
              " <div class=\"img-context\">\n",
              " <h3 class=\"\"><a href=\"https://indianexpress.com/article/cities/delhi/manish-sisodia-jangpura-aap-bjp-tarvinder-singh-marwah-9824744/\" title=\"Old Congress hand, ex-Jangpura MLA: Meet BJP’s Tarvinder Singh Marwah who took down AAP’s Manish Sisodia\">Old Congress hand, ex-Jangpura MLA: Meet BJP’s Tarvinder Singh Marwah who took down AAP’s Manish Sisodia</a></h3><p>February 08, 2025 2:28 pm</p><p>In 2024, Marwah saw his share of controversies when Congress filed a complaint against him with the Delhi Police.</p> </div>\n",
              " </div>\n",
              " <div class=\"details\">\n",
              " <div class=\"about-thumb\">\n",
              " <a href=\"https://indianexpress.com/article/education/iit-kharagpur-du-oxford-university-delhi-election-arvind-kejriwal-atishi-manish-sisodia-ramesh-bidhuri-eci-education-9811991/\">\n",
              " <img alt=\"IIT Kharagpur, DU, Oxford University: Delhi Elections 2025 candidates educational qualifications\" class=\"lazyloading\" data-src=\"https://images.indianexpress.com/2025/02/Delhi-elections-2025-candidates-feature-edu.jpg?w=270\" height=\"152\" src=\"https://indianexpress.com/wp-content/themes/indianexpress/images/default-ie.jpg\" width=\"270\"/> </a>\n",
              " </div>\n",
              " <div class=\"img-context\">\n",
              " <h3 class=\"\"><a href=\"https://indianexpress.com/article/education/iit-kharagpur-du-oxford-university-delhi-election-arvind-kejriwal-atishi-manish-sisodia-ramesh-bidhuri-eci-education-9811991/\" title=\"Delhi Elections 2025 Key Candidates’ Educational Qualifications: IIT-Kharagpur, DU, Oxford University\">Delhi Elections 2025 Key Candidates’ Educational Qualifications: IIT-Kharagpur, DU, Oxford University</a></h3><p>February 04, 2025 3:58 pm</p><p>Delhi Elections 2025 Key Contenders Educational Qualifications: From Atishi Marlena, Avadh Ojha to Vijender Gupta, check educational qualifications of top candidates. </p> </div>\n",
              " </div>\n",
              " <div class=\"details\">\n",
              " <div class=\"about-thumb\">\n",
              " <a href=\"https://indianexpress.com/article/cities/delhi/delhi-polls-on-campaign-trail-with-aaps-sisodia-at-jangpura-an-ally-from-up-9808817/\">\n",
              " <img alt=\"Delhi Assembly elections, Delhi Assembly polls, Manish Sisodia, Sisodia at Jangpura, Aam Aadmi Party AAP, AAP, delhi news, India news, Indian express, current affairs\" class=\"lazyloading\" data-src=\"https://images.indianexpress.com/2025/01/siso-4colm.jpg?w=270\" height=\"152\" src=\"https://indianexpress.com/wp-content/themes/indianexpress/images/default-ie.jpg\" width=\"270\"/> </a>\n",
              " </div>\n",
              " <div class=\"img-context\">\n",
              " <h3 class=\"\"><a href=\"https://indianexpress.com/article/cities/delhi/delhi-polls-on-campaign-trail-with-aaps-sisodia-at-jangpura-an-ally-from-up-9808817/\" title=\"Delhi polls: On campaign trail with AAP’s Sisodia at Jangpura, an ally from UP\">Delhi polls: On campaign trail with AAP’s Sisodia at Jangpura, an ally from UP</a></h3><p>January 31, 2025 4:13 am</p><p>Earlier this week, the Samajwadi Party, a key member of the Opposition INDIA bloc, along with Trinamool Congress, Shiv Sena (UBT) and NCP (SP), backed AAP over the Congress in the polls. </p> </div>\n",
              " </div>\n",
              " <div class=\"details\">\n",
              " <div class=\"about-thumb\">\n",
              " <a href=\"https://indianexpress.com/article/cities/delhi/at-patparganj-poll-rally-rahul-gandhi-attacks-aap-sisodia-ran-away-after-liquor-scam-9804646/\">\n",
              " <img alt=\"Patparganj poll rally, Delhi Assembly elections, Delhi Assembly polls, Rahul Gandhi, Aam Aadmi Party AAP, Manish Sisodia, delhi news, India news, Indian express, current affairs\" class=\"lazyloading\" data-src=\"https://images.indianexpress.com/2025/01/rahul-5colde.jpg?w=270\" height=\"152\" src=\"https://indianexpress.com/wp-content/themes/indianexpress/images/default-ie.jpg\" width=\"270\"/> </a>\n",
              " </div>\n",
              " <div class=\"img-context\">\n",
              " <h3 class=\"\"><a href=\"https://indianexpress.com/article/cities/delhi/at-patparganj-poll-rally-rahul-gandhi-attacks-aap-sisodia-ran-away-after-liquor-scam-9804646/\" title=\"At Patparganj poll rally Rahul Gandhi attacks AAP: ‘Sisodia ran away after liquor scam’\">At Patparganj poll rally Rahul Gandhi attacks AAP: ‘Sisodia ran away after liquor scam’</a></h3><p>January 29, 2025 3:05 am</p><p>In Patparganj, Rahul urged voters to back Congress candidate Anil Chaudhary, claiming that the sitting MLA, AAP’s Manish Sisodia, had “run away” after being implicated as the “architect of the liquor scam”. </p> </div>\n",
              " </div>\n",
              " <div class=\"details\">\n",
              " <div class=\"about-thumb\">\n",
              " <a href=\"https://indianexpress.com/article/cities/delhi/delhi-assembly-polls-manish-sisodia-will-be-deputy-cm-again-if-aap-wins-says-kejriwal-9801093/\">\n",
              " <img alt=\"manish sisodia\" class=\"lazyloading\" data-src=\"https://images.indianexpress.com/2025/01/kejri-sisodia.jpg?w=270\" height=\"152\" src=\"https://indianexpress.com/wp-content/themes/indianexpress/images/default-ie.jpg\" width=\"270\"/> </a>\n",
              " </div>\n",
              " <div class=\"img-context\">\n",
              " <h3 class=\"\"><a href=\"https://indianexpress.com/article/cities/delhi/delhi-assembly-polls-manish-sisodia-will-be-deputy-cm-again-if-aap-wins-says-kejriwal-9801093/\" title=\"Delhi Assembly polls: ‘Manish Sisodia will be Deputy CM again if AAP wins', says Kejriwal\">Delhi Assembly polls: ‘Manish Sisodia will be Deputy CM again if AAP wins', says Kejriwal</a></h3><p>January 27, 2025 4:44 am</p><p>Sisodia, who switched his seat from Patparganj to Jangpura this year, was the Deputy Chief Minister till 2022.</p> </div>\n",
              " </div>\n",
              " </div>\n",
              " <div class=\"o-listing__load-more\">\n",
              " <button class=\"m-featured-link m-featured-link--centered load_tag_data\" id=\"load_tag_article\" load-content=\"tag_article\" post_type=\"article\" tag_page=\"2\">\n",
              " <span class=\"m-featured-link__highlight\">Load More</span>\n",
              " </button>\n",
              " </div>\n",
              " </input></div>\n",
              " <div class=\"search-result\" id=\"AboutPhotos\">\n",
              " <div id=\"tag_photos\">\n",
              " <h2 class=\"listing-title\">MANISH SISODIA PHOTOS</h2> <div class=\"details\">\n",
              " <div class=\"about-thumb\">\n",
              " <a href=\"https://indianexpress.com/photos/india-news/delhi-deputy-cm-manish-sisodia-arrest-liqour-scam-protests-8469206/\">\n",
              " <img alt=\"\" class=\"lazyloading\" data-src=\"https://images.indianexpress.com/2023/02/PTI02_26_2023_000091A.jpg?w=270\" height=\"152\" src=\"https://indianexpress.com/wp-content/themes/indianexpress/images/default-ie.jpg\" width=\"270\"/> </a>\n",
              " </div>\n",
              " <div class=\"img-context\">\n",
              " <h3 class=\"\"><a href=\"https://indianexpress.com/photos/india-news/delhi-deputy-cm-manish-sisodia-arrest-liqour-scam-protests-8469206/\" title=\"Protests rage across nation after Delhi Deputy CM Manish Sisodia's arrest in liquor 'scam'\">Protests rage across nation after Delhi Deputy CM Manish Sisodia's arrest in liquor 'scam'</a></h3><p>February 27, 2023 5:28 pm</p><p>Manish Sisodia was arrested in the liquor policy scam case on Sunday, hours after being questioned by the CBI.</p> </div>\n",
              " </div>\n",
              " <div class=\"details\">\n",
              " <div class=\"about-thumb\">\n",
              " <a href=\"https://indianexpress.com/photos/india-news/aap-leaders-detained-protest-manish-sisodia-cbi-summons-photos-8213844/\">\n",
              " <img alt=\"protests\" class=\"lazyloading\" data-src=\"https://images.indianexpress.com/2022/10/protests.jpeg?w=270\" height=\"152\" src=\"https://indianexpress.com/wp-content/themes/indianexpress/images/default-ie.jpg\" width=\"270\"/> </a>\n",
              " </div>\n",
              " <div class=\"img-context\">\n",
              " <h3 class=\"\"><a href=\"https://indianexpress.com/photos/india-news/aap-leaders-detained-protest-manish-sisodia-cbi-summons-photos-8213844/\" title=\"AAP leaders detained for protest against CBI summons to Manish Sisodia\">AAP leaders detained for protest against CBI summons to Manish Sisodia</a></h3><p>October 17, 2022 4:37 pm</p><p>CBI has summoned Sisodia in connection with the now-withdrawn Delhi Excise Policy 2021-22. </p> </div>\n",
              " </div>\n",
              " <div class=\"details\">\n",
              " <div class=\"about-thumb\">\n",
              " <a href=\"https://indianexpress.com/photos/india-news/delhi-deputy-cm-manish-sisodia-residence-raided-cbi-8099278/\">\n",
              " <img alt=\"\" class=\"lazyloading\" data-src=\"https://images.indianexpress.com/2014/03/CBI-Raid.jpeg?w=270\" height=\"152\" src=\"https://indianexpress.com/wp-content/themes/indianexpress/images/default-ie.jpg\" width=\"270\"/> </a>\n",
              " </div>\n",
              " <div class=\"img-context\">\n",
              " <h3 class=\"\"><a href=\"https://indianexpress.com/photos/india-news/delhi-deputy-cm-manish-sisodia-residence-raided-cbi-8099278/\" title=\"In pics: Delhi Deputy CM Manish Sisodia's residence raided by CBI\">In pics: Delhi Deputy CM Manish Sisodia's residence raided by CBI</a></h3><p>August 19, 2022 1:56 pm</p><p>CBI raids Manish Sisodia: ‘It is unfortunate that those who do work in the country are harassed like this. That is why our country has not become number 1 until today,’ the Deputy CM said.\n",
              " </p> </div>\n",
              " </div>\n",
              " <div class=\"details\">\n",
              " <div class=\"about-thumb\">\n",
              " <a href=\"https://indianexpress.com/photos/education-gallery/when-sosodia-attended-happiness-classes-with-delhi-government-school-students-6280978/\">\n",
              " <img alt=\"manish sisodia happiness curriculum, trump visit india, melina trump, delhi government schools, CM delhi arvind kejriwal, education news, indian express\" class=\"lazyloading\" data-src=\"https://images.indianexpress.com/2020/02/happinessclass759.jpg?w=270\" height=\"152\" src=\"https://indianexpress.com/wp-content/themes/indianexpress/images/default-ie.jpg\" width=\"270\"/> </a>\n",
              " </div>\n",
              " <div class=\"img-context\">\n",
              " <h3 class=\"\"><a href=\"https://indianexpress.com/photos/education-gallery/when-sosodia-attended-happiness-classes-with-delhi-government-school-students-6280978/\" title=\"When Manish Sisodia attended happiness classes with Delhi govt school students\">When Manish Sisodia attended happiness classes with Delhi govt school students</a></h3><p>February 23, 2020 12:59 pm</p><p>Ahead of the visit of First Ladyof USA Melania Trump to the Happiness classes in Delhi government schools, Delhi Education Minister visited the schools and interacted with students. The Chief Minister of Delhi Arvind Kerjriwal and deputy chief minister Manish Sisodia have been dropped from the list of guests to visit the Delhi Government school with the first lady.</p> </div>\n",
              " </div>\n",
              " <div class=\"details\">\n",
              " <div class=\"about-thumb\">\n",
              " <a href=\"https://indianexpress.com/photos/india-news/aap-2-0-cm-arvind-kejriwal-manish-sisodia-gopal-rai-satyendar-jain-delhi-cabinet-6273811/\">\n",
              " <img alt=\"aap, aap cabinet, delhi government cabinet, manish sisodia, rajendra pal gautam, gopal rai, satyendar jain, kailash gahlot, imran hussain, delhi news\" class=\"lazyloading\" data-src=\"https://images.indianexpress.com/2020/02/aap-cabinet.jpg?w=270\" height=\"152\" src=\"https://indianexpress.com/wp-content/themes/indianexpress/images/default-ie.jpg\" width=\"270\"/> </a>\n",
              " </div>\n",
              " <div class=\"img-context\">\n",
              " <h3 class=\"\"><a href=\"https://indianexpress.com/photos/india-news/aap-2-0-cm-arvind-kejriwal-manish-sisodia-gopal-rai-satyendar-jain-delhi-cabinet-6273811/\" title=\"Delhi's top seven: CM Arvind Kejriwal, cabinet ministers take charge of office\">Delhi's top seven: CM Arvind Kejriwal, cabinet ministers take charge of office</a></h3><p>February 19, 2020 6:48 am</p><p>The Indian Express tracks the six Delhi ministers and the key areas they will prioritise over the next five years.</p> </div>\n",
              " </div>\n",
              " <div class=\"details\">\n",
              " <div class=\"about-thumb\">\n",
              " <a href=\"https://indianexpress.com/photos/india-news/delhi-assembly-elections-aam-aadmi-party-aap-manish-sisodia-6264837/\">\n",
              " <img alt=\"Manish Sisodia, Manish Sisodia AAP, Delhi Assembly elections, AAP, Aam Aadmi Party, India news, Indian Express\" class=\"lazyloading\" data-src=\"https://images.indianexpress.com/2020/02/sisodia-759-2.jpg?w=270\" height=\"152\" src=\"https://indianexpress.com/wp-content/themes/indianexpress/images/default-ie.jpg\" width=\"270\"/> </a>\n",
              " </div>\n",
              " <div class=\"img-context\">\n",
              " <h3 class=\"\"><a href=\"https://indianexpress.com/photos/india-news/delhi-assembly-elections-aam-aadmi-party-aap-manish-sisodia-6264837/\" title=\"Delhi elections: Manish Sisodia celebrates AAP's victory with thank you rally\">Delhi elections: Manish Sisodia celebrates AAP's victory with thank you rally</a></h3><p>February 12, 2020 7:38 pm</p><p>The AAP won 62 of the 70 seats and retained much of its vote share from 2015 when it won 67 seats — its vote share was 53.57%, a marginal drop from 54.34% in 2015.</p> </div>\n",
              " </div>\n",
              " <div class=\"details\">\n",
              " <div class=\"about-thumb\">\n",
              " <a href=\"https://indianexpress.com/photos/india-news/delhi-assembly-elections-2020-i-hereby-declare-assets-arvind-kejriwal-aap-bjp-congress-6252133/\">\n",
              " <img alt=\"\" class=\"lazyloading\" data-src=\"https://images.indianexpress.com/2020/02/Delhi-election-2020_759.jpg?w=270\" height=\"152\" src=\"https://indianexpress.com/wp-content/themes/indianexpress/images/default-ie.jpg\" width=\"270\"/> </a>\n",
              " </div>\n",
              " <div class=\"img-context\">\n",
              " <h3 class=\"\"><a href=\"https://indianexpress.com/photos/india-news/delhi-assembly-elections-2020-i-hereby-declare-assets-arvind-kejriwal-aap-bjp-congress-6252133/\" title=\"Delhi elections 2020: A look at the assets declared by candidates\">Delhi elections 2020: A look at the assets declared by candidates</a></h3><p>February 08, 2020 8:27 am</p><p>Ahead of the upcoming February 8 assembly elections, candidates from BJP, Congress and AAP made a declaration of their assets.</p> </div>\n",
              " </div>\n",
              " <div class=\"details\">\n",
              " <div class=\"about-thumb\">\n",
              " <a href=\"https://indianexpress.com/photos/picture-gallery-others/arvind-kejriwal-leads-cycle-rally-to-mark-delhis-car-free-day/\">\n",
              " <img alt=\"Arvind Kejriwal, Kejriwal, car free day, delhi car free day, car free day delhi, carfree, car free, car free delhi, carfree delhi, Manish Sisodia, Sisodia, delhi news\" class=\"lazyloading\" data-src=\"https://images.indianexpress.com/2015/10/kejriwal-car-free-410.jpg?w=270\" height=\"152\" src=\"https://indianexpress.com/wp-content/themes/indianexpress/images/default-ie.jpg\" width=\"270\"/> </a>\n",
              " </div>\n",
              " <div class=\"img-context\">\n",
              " <h3 class=\"\"><a href=\"https://indianexpress.com/photos/picture-gallery-others/arvind-kejriwal-leads-cycle-rally-to-mark-delhis-car-free-day/\" title=\"Arvind Kejriwal pedals to peddle car-free Delhi vision\">Arvind Kejriwal pedals to peddle car-free Delhi vision</a></h3><p>October 22, 2015 1:31 pm</p><p>Arvind Kejriwal led a cycle rally comprising of hundreds of people, including women to mark Delhi's 'Car-Free Day' aimed at encouraging people to use public transport</p> </div>\n",
              " </div>\n",
              " <div class=\"details\">\n",
              " <div class=\"about-thumb\">\n",
              " <a href=\"https://indianexpress.com/photos/picture-gallery-others/kejriwal-attends-court-hearing-sisodia-shifts-into-new-home/\">\n",
              " <img alt=\"\" class=\"lazyloading\" data-src=\"https://images.indianexpress.com/2015/03/kejriwal-410.jpg?w=270\" height=\"152\" src=\"https://indianexpress.com/wp-content/themes/indianexpress/images/default-ie.jpg\" width=\"270\"/> </a>\n",
              " </div>\n",
              " <div class=\"img-context\">\n",
              " <h3 class=\"\"><a href=\"https://indianexpress.com/photos/picture-gallery-others/kejriwal-attends-court-hearing-sisodia-shifts-into-new-home/\" title=\"Kejriwal attends court hearing, Sisodia shifts into new home\">Kejriwal attends court hearing, Sisodia shifts into new home</a></h3><p>March 17, 2015 5:17 pm</p><p>Arvind Kejriwal on Tuesday appeared before a Delhi court in connection with a defamation case.</p> </div>\n",
              " </div>\n",
              " <div class=\"details\">\n",
              " <div class=\"about-thumb\">\n",
              " <a href=\"https://indianexpress.com/photos/picture-gallery-others/cm-deligate-arvind-kejriwal-meets-pm-narendra-modi/\">\n",
              " <img alt=\"\" class=\"lazyloading\" data-src=\"https://images.indianexpress.com/2015/02/mk-thumb.jpg?w=270\" height=\"152\" src=\"https://indianexpress.com/wp-content/themes/indianexpress/images/default-ie.jpg\" width=\"270\"/> </a>\n",
              " </div>\n",
              " <div class=\"img-context\">\n",
              " <h3 class=\"\"><a href=\"https://indianexpress.com/photos/picture-gallery-others/cm-deligate-arvind-kejriwal-meets-pm-narendra-modi/\" title=\"CM-deligate Arvind Kejriwal meets PM Narendra Modi\">CM-deligate Arvind Kejriwal meets PM Narendra Modi</a></h3><p>February 12, 2015 11:53 am</p><p>PM Narendra Modi had his morning tea with CM-deligate Arvind Kejriwal who had visited the PM House to invite the prime minister to the swearing-in ceremony in New Delhi on Thursday.</p> </div>\n",
              " </div>\n",
              " </div>\n",
              " <div class=\"o-listing__load-more\">\n",
              " <button class=\"m-featured-link m-featured-link--centered load_tag_data\" id=\"load_tag_photos\" load-content=\"tag_photos\" post_type=\"picture-gallery\" tag_page=\"2\">\n",
              " <span class=\"m-featured-link__highlight\">Load More</span>\n",
              " </button>\n",
              " </div>\n",
              " </div>\n",
              " <div class=\"search-result\" id=\"AboutVideos\">\n",
              " <div id=\"tag_videos\">\n",
              " <h2 class=\"listing-title\">MANISH SISODIA VIDEOS</h2> <div class=\"details\">\n",
              " <div class=\"about-thumb\">\n",
              " <a href=\"https://indianexpress.com/videos/news-video/politicians-react-over-1984-riots-missing-file/\">\n",
              " <img alt=\"\" class=\"lazyloading\" data-src=\"https://images.indianexpress.com/2016/01/8eaa92f3-ec49-473b-b186-514722e4ac8b.jpeg?w=270\" height=\"152\" src=\"https://indianexpress.com/wp-content/themes/indianexpress/images/default-ie.jpg\" width=\"270\"/> </a>\n",
              " </div>\n",
              " <div class=\"img-context\">\n",
              " <h3 class=\"\"><a href=\"https://indianexpress.com/videos/news-video/politicians-react-over-1984-riots-missing-file/\" title=\"Politicians react over 1984 riots missing file\">Politicians react over 1984 riots missing file</a></h3><p>January 22, 2016 7:46 am</p><p>New Delhi, Jan 22 (ANI): Commenting on the 1984 riots missing file, Bharatiya Janata Party spokesperson Sambit Patra on Friday said the 1984 riots file, which is missing from past 10 months, clearly shows that Delhi Chief Minister Arvind Kejriwal is not at all \"serious\" about the issue and is not taking the Delhi administration seriously. Sharing the same sentiments, Shiromani Akali Dal leader Manjeet Singh GK said Delhi Chief Minister Arvind Kejriwal is not at all concerned about the Sikh community. He added that he was only doing \"vote politics\", as the Punjab assembly elections are near. Meanwhile, Delhi Deputy Chief Minister Manish Sisodia said he has no information regarding the issue and will comment once he has complete information.</p> </div>\n",
              " </div>\n",
              " <div class=\"details\">\n",
              " <div class=\"about-thumb\">\n",
              " <a href=\"https://indianexpress.com/videos/news-video/delhi-observes-fourth-car-free-day/\">\n",
              " <img alt=\"\" class=\"lazyloading\" data-src=\"https://images.indianexpress.com/2016/01/0b6c9953-29d3-4302-abee-dbf0cb8b9c5f.jpeg?w=270\" height=\"152\" src=\"https://indianexpress.com/wp-content/themes/indianexpress/images/default-ie.jpg\" width=\"270\"/> </a>\n",
              " </div>\n",
              " <div class=\"img-context\">\n",
              " <h3 class=\"\"><a href=\"https://indianexpress.com/videos/news-video/delhi-observes-fourth-car-free-day/\" title=\"Delhi observes fourth 'Car-Free Day'\">Delhi observes fourth 'Car-Free Day'</a></h3><p>January 22, 2016 7:20 am</p><p>New Delhi, Jan 22 (ANI): The national capital on Friday observed fourth 'Car-Free Day' on the stretch between Vishwavidyalaya Metro Station and Chhatrasal Stadium. The aim of the event is to curb pollution and encourage people to use public transport. Deputy Chief Minister Manish Sisodia was part of the cycle rally, which was organised as part of the event. When asked about the Odd-Even formula, Sisodia said that it would be implemented again. The exercise, which is organised on 22nd of every month, comes after the recently concluded 15-day Odd-Even formula.</p> </div>\n",
              " </div>\n",
              " <div class=\"details\">\n",
              " <div class=\"about-thumb\">\n",
              " <a href=\"https://indianexpress.com/videos/idea-exchange-video/manish-sisodia-on-jitender-singh-tomar-controversy/\">\n",
              " <img alt=\"manish sisodia, sisodia, aap, govt, presidents rule in delhi, delhi govt, modi government, delhi control, delhi rule, india news, delhi news\" class=\"lazyloading\" data-src=\"https://images.indianexpress.com/2015/07/manish-sisodia-480.jpg?w=270\" height=\"152\" src=\"https://indianexpress.com/wp-content/themes/indianexpress/images/default-ie.jpg\" width=\"270\"/> </a>\n",
              " </div>\n",
              " <div class=\"img-context\">\n",
              " <h3 class=\"\"><a href=\"https://indianexpress.com/videos/idea-exchange-video/manish-sisodia-on-jitender-singh-tomar-controversy/\" title=\"Manish Sisodia on Jitender Singh Tomar Controversy\">Manish Sisodia on Jitender Singh Tomar Controversy</a></h3><p>July 05, 2015 8:03 am</p><p>Delhi Deputy Chief Minister Manish Sisodia at Idea Exchange speaks about how the Aam Aadmi Party tackled the Jitender SIngh Tomar controversy</p> </div>\n",
              " </div>\n",
              " <div class=\"details\">\n",
              " <div class=\"about-thumb\">\n",
              " <a href=\"https://indianexpress.com/videos/idea-exchange-video/manish-sisodia-on-delhi-government-tv-ad-controversy/\">\n",
              " <img alt=\"manish sisodia, sisodia, aap, govt, presidents rule in delhi, delhi govt, modi government, delhi control, delhi rule, india news, delhi news\" class=\"lazyloading\" data-src=\"https://images.indianexpress.com/2015/07/manish-sisodia-480.jpg?w=270\" height=\"152\" src=\"https://indianexpress.com/wp-content/themes/indianexpress/images/default-ie.jpg\" width=\"270\"/> </a>\n",
              " </div>\n",
              " <div class=\"img-context\">\n",
              " <h3 class=\"\"><a href=\"https://indianexpress.com/videos/idea-exchange-video/manish-sisodia-on-delhi-government-tv-ad-controversy/\" title=\"Manish Sisodia on Delhi Government TV Ad Controversy\">Manish Sisodia on Delhi Government TV Ad Controversy</a></h3><p>July 05, 2015 7:59 am</p><p>Delhi Deputy Chief Minister Manish Sisodia at Idea Exchange says the confidence of having a majority now reflects in our thinking, planning and execution.</p> </div>\n",
              " </div>\n",
              " </div>\n",
              " </div>\n",
              " <div class=\"l-container\"><div class=\"o-taboola-section\"><div id=\"taboola-below-content\"></div></div></div> </div>]"
            ]
          },
          "execution_count": 37,
          "metadata": {},
          "output_type": "execute_result"
        }
      ],
      "source": [
        "# For Indian Express --> WORKING\n",
        "def indianexpress(url):\n",
        "  indianexpress_html = requests.get(url)\n",
        "  soup = BeautifulSoup(indianexpress_html.text, 'html.parser')\n",
        "  text_blocks = soup.find_all(attrs={'class': 'leftpanel'})\n",
        "  texts = ''\n",
        "  for ele in text_blocks:\n",
        "    texts += ele.get_text()\n",
        "    return texts"
      ]
    },
    {
      "cell_type": "code",
      "execution_count": 31,
      "metadata": {
        "colab": {
          "base_uri": "https://localhost:8080/",
          "height": 88
        },
        "collapsed": true,
        "id": "P8CtvCGWfpCi",
        "outputId": "4c5d5dde-881b-46de-a004-8b9e77dd0c07"
      },
      "outputs": [
        {
          "data": {
            "application/vnd.google.colaboratory.intrinsic+json": {
              "type": "string"
            },
            "text/plain": [
              "'<HTML><HEAD>\\n<TITLE>Access Denied</TITLE>\\n</HEAD><BODY>\\n<H1>Access Denied</H1>\\n \\nYou don\\'t have permission to access \"http&#58;&#47;&#47;www&#46;ndtv&#46;com&#47;india&#45;news&#47;manish&#45;sisodia&#45;arvind&#45;kejriwal&#45;aap&#45;had&#45;to&#45;beg&#45;to&#45;pay&#45;sons&#45;fees&#45;manish&#45;sisodia&#45;recounts&#45;time&#45;after&#45;arrest&#45;6622631\" on this server.<P>\\nReference&#32;&#35;18&#46;1adfda17&#46;1742122898&#46;168b0587\\n<P>https&#58;&#47;&#47;errors&#46;edgesuite&#46;net&#47;18&#46;1adfda17&#46;1742122898&#46;168b0587</P>\\n</BODY>\\n</HTML>\\n'"
            ]
          },
          "execution_count": 31,
          "metadata": {},
          "output_type": "execute_result"
        }
      ],
      "source": [
        "# For ndtv news --> Not Working\n",
        "def ndtv(url):\n",
        "  ndtv_html = requests.get(links[5])\n",
        "  soup = BeautifulSoup(ndtv_html.text, 'html.parser')\n",
        "  text_blocks = soup.find_all(attrs={'class': 'stp-wr'})\n",
        "  texts = ''\n",
        "  for ele in text_blocks:\n",
        "    texts += ele.get_text()\n",
        "  return texts"
      ]
    },
    {
      "cell_type": "code",
      "execution_count": 49,
      "metadata": {
        "id": "SHtN87IspOdW"
      },
      "outputs": [],
      "source": [
        "ans = toi(links[0])"
      ]
    },
    {
      "cell_type": "code",
      "execution_count": 50,
      "metadata": {
        "colab": {
          "base_uri": "https://localhost:8080/",
          "height": 348
        },
        "id": "OQm0ZLAEtWXd",
        "outputId": "95be68c9-11ce-4935-83ef-75bceff7a237"
      },
      "outputs": [
        {
          "data": {
            "application/vnd.google.colaboratory.intrinsic+json": {
              "type": "string"
            },
            "text/plain": [
              "'  NEW DELHI: In a surprising move, Delhi chief minister Arvind Kejriwal announced on Sunday that he will step down from his position within the next two days. Addressing party workers after his release from Tihar Jail, The AAP national convener, who reached the party headquarters here on Sunday along with his wife Sunita to address party workers, said he would become chief minister and Manish Sisodia deputy CM \"only when people say we are honest\".Read also:Delhi CM Arvind Kejriwal says he will resign in 48 hours: What this means, what happens next, and who will benefitThe BJP hit back at Kejriwal and called his announcement to resign as \"confession of crime\". BJP also questioned whether his decision to quit was due to internal conflicts within the Aam Aadmi Party. The party also labeled Kejriwal\\'s move as a \"drama\" and accused him of playing an \"emotional card\" to make a virtue out of necessity, as the Supreme Court\\'s conditional bail in the excise policy graft case restricted him from entering his office and signing any file.BJP national spokesperson Sudhanshu Trivedi expressed suspicion over Kejriwal\\'s timing, asking why he did not resign when he was arrested in connection with the scam. \"Him talking about resigning and demanding early polls in Delhi after coming out of jail on bail raises suspicion,\" Trivedi said. \"Could it be that there is some conflict going on within his party due to which he feels that it will be difficult to handle it now?\"Delhi BJP president Virendra Sachdeva criticized Kejriwal, stating that the people of Delhi have already given their verdict in the Lok Sabha polls, where the AAP failed to win any of the seven seats in the national capital. \"Dismiss the government. Let all Cabinet Ministers resign and conduct elections in Delhi in November. The People of Delhi will give a reply,\" Sachdeva said.Another BJP national spokesperson, Shehzad Poonawalla, accused Kejriwal of playing an \"emotional card\" and enacting a \"resignation drama\" as part of a plan to make his wife, Sunita Kejriwal, the chief minister. Poonawalla alleged that Kejriwal is attempting to create a \"Manmohan Singh-like system\" in Delhi, similar to what Sonia Gandhi did during the Congress party\\'s rule.\"The emotional and PR cards that he is playing are aimed at creating a Manmohan Singh-like system in Delhi as (former Congress president) Sonia Gandhi did,\" the BJP leader said.Read also:Wants wife Sunita Kejriwal as CM: BJP on Arvind Kejriwal\\'s resignation talkCongress leader Sandeep Dikshit reacted to the Delhi CM\\'s resignation and dubbed it a \"gimmick,\" adding that this had happened for the first time when an elected leader came out of jail on bail and was asked by the SC to not go to the CMO or sign any papers.\"There is no question of becoming the CM again. We have been saying this for a long time that he should resign as the CM... This is a mere gimmick. This happened for the first time when an elected leader came out of jail on bail, and was asked by the SC to not go to the CMO or sign any papers... Such conditions were never imposed on any other CM... Maybe even the SC fears that this person might try to tamper with the evidence... The SC is treating him like a criminal... There is no correlation of morality and Arvind Kejriwal,\" Dikshit told ANI.'"
            ]
          },
          "execution_count": 50,
          "metadata": {},
          "output_type": "execute_result"
        }
      ],
      "source": [
        "ans"
      ]
    },
    {
      "cell_type": "code",
      "execution_count": null,
      "metadata": {
        "id": "ZT8lI0vstW2v"
      },
      "outputs": [],
      "source": []
    }
  ],
  "metadata": {
    "colab": {
      "provenance": []
    },
    "kernelspec": {
      "display_name": "venv",
      "language": "python",
      "name": "python3"
    },
    "language_info": {
      "codemirror_mode": {
        "name": "ipython",
        "version": 3
      },
      "file_extension": ".py",
      "mimetype": "text/x-python",
      "name": "python",
      "nbconvert_exporter": "python",
      "pygments_lexer": "ipython3",
      "version": "3.10.11"
    }
  },
  "nbformat": 4,
  "nbformat_minor": 0
}
