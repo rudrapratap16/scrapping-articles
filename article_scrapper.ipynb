{
  "cells": [
    {
      "cell_type": "code",
      "execution_count": 7,
      "metadata": {
        "id": "bqbsEXhqYJNB"
      },
      "outputs": [],
      "source": [
        "import requests\n",
        "from bs4 import BeautifulSoup\n",
        "from dotenv import load_dotenv\n",
        "import os"
      ]
    },
    {
      "cell_type": "code",
      "execution_count": 2,
      "metadata": {},
      "outputs": [
        {
          "data": {
            "text/plain": [
              "True"
            ]
          },
          "execution_count": 2,
          "metadata": {},
          "output_type": "execute_result"
        }
      ],
      "source": [
        "load_dotenv()"
      ]
    },
    {
      "cell_type": "code",
      "execution_count": 3,
      "metadata": {
        "id": "-858RIKseZRL"
      },
      "outputs": [],
      "source": [
        "api_key = os.getenv('API_KEY')\n",
        "search_engine_id = os.getenv('SEARCH_ENGINE_ID')"
      ]
    },
    {
      "cell_type": "code",
      "execution_count": null,
      "metadata": {
        "colab": {
          "base_uri": "https://localhost:8080/"
        },
        "id": "Mmiwengwea2k",
        "outputId": "7653165c-d0f5-4456-8d3c-575339ae5cc8"
      },
      "outputs": [
        {
          "name": "stdout",
          "output_type": "stream",
          "text": [
            "{'kind': 'customsearch#search', 'url': {'type': 'application/json', 'template': 'https://www.googleapis.com/customsearch/v1?q={searchTerms}&num={count?}&start={startIndex?}&lr={language?}&safe={safe?}&cx={cx?}&sort={sort?}&filter={filter?}&gl={gl?}&cr={cr?}&googlehost={googleHost?}&c2coff={disableCnTwTranslation?}&hq={hq?}&hl={hl?}&siteSearch={siteSearch?}&siteSearchFilter={siteSearchFilter?}&exactTerms={exactTerms?}&excludeTerms={excludeTerms?}&linkSite={linkSite?}&orTerms={orTerms?}&dateRestrict={dateRestrict?}&lowRange={lowRange?}&highRange={highRange?}&searchType={searchType}&fileType={fileType?}&rights={rights?}&imgSize={imgSize?}&imgType={imgType?}&imgColorType={imgColorType?}&imgDominantColor={imgDominantColor?}&alt=json'}, 'queries': {'request': [{'title': 'Google Custom Search - bjp times of india', 'totalResults': '23700000', 'searchTerms': 'bjp times of india', 'count': 10, 'startIndex': 1, 'inputEncoding': 'utf8', 'outputEncoding': 'utf8', 'safe': 'off', 'cx': 'c09cc4e9838594423', 'dateRestrict': 'y1'}], 'nextPage': [{'title': 'Google Custom Search - bjp times of india', 'totalResults': '23700000', 'searchTerms': 'bjp times of india', 'count': 10, 'startIndex': 11, 'inputEncoding': 'utf8', 'outputEncoding': 'utf8', 'safe': 'off', 'cx': 'c09cc4e9838594423', 'dateRestrict': 'y1'}]}, 'context': {'title': 'awshar'}, 'searchInformation': {'searchTime': 0.417352, 'formattedSearchTime': '0.42', 'totalResults': '23700000', 'formattedTotalResults': '23,700,000'}, 'items': [{'kind': 'customsearch#result', 'title': \"'PR stunt ... gimmick': How BJP, Congress reacted to Kejriwal ...\", 'htmlTitle': '&#39;PR stunt ... gimmick&#39;: How <b>BJP</b>, Congress reacted to Kejriwal ...', 'link': 'https://timesofindia.indiatimes.com/india/drama-pr-stunt-how-bjp-reacted-to-kejriwal-announcing-to-resign-as-delhi-cm/articleshow/113368962.cms', 'displayLink': 'timesofindia.indiatimes.com', 'snippet': \"Sep 15, 2024 ... 'PR stunt ... gimmick': How BJP, Congress reacted to Kejriwal announcing to resign as Delhi CM. TOI News Desk / TIMESOFINDIA.COM / Updated\\xa0...\", 'htmlSnippet': 'Sep 15, 2024 <b>...</b> &#39;PR stunt ... gimmick&#39;: How <b>BJP</b>, Congress reacted to Kejriwal announcing to resign as Delhi CM. <b>TOI</b> News Desk / TIMESOFINDIA.COM / Updated&nbsp;...', 'formattedUrl': 'https://timesofindia.indiatimes.com/india/...pr...bjp.../113368962.cms', 'htmlFormattedUrl': 'https://<b>timesofindia</b>.<b>indiatimes</b>.com/<b>india</b>/...pr...<b>bjp</b>.../113368962.cms', 'pagemap': {'cse_thumbnail': [{'src': 'https://encrypted-tbn0.gstatic.com/images?q=tbn:ANd9GcSTUNTGDxU1WIdFSVxYmZSPe9NtkRmPb7_K3JnldnMIAVSjThQV_5bwjWk7&s', 'width': '305', 'height': '165'}], 'imageobject': [{'width': '600', 'url': 'https://static.toiimg.com/photo/msid-58127550/toilogo.jpg', 'height': '60'}], 'organization': [{'name': 'Times of India', 'url': 'https://timesofindia.indiatimes.com'}], 'metatags': [{'og:image': 'https://static.toiimg.com/thumb/msid-113368995,width-1070,height-580,imgsize-1077274,resizemode-75,overlay-toi_sw,pt-32,y_pad-40/photo.jpg', 'twitter:title': \"'PR stunt ... gimmick': How BJP, Congress reacted to Kejriwal announcing to resign as Delhi CM | India News - Times of India\", 'og:image:width': '1070', 'theme-color': '#af2c2c', 'og:type': 'article', 'og:site_name': 'The Times of India', 'handheldfriendly': 'true', 'twitter:url': 'https://timesofindia.indiatimes.com/india/drama-pr-stunt-how-bjp-reacted-to-kejriwal-announcing-to-resign-as-delhi-cm/articleshow/113368962.cms', 'the times of india': 'app-id=427589329,app-argument=https://timesofindia.indiatimes.com/india/drama-pr-stunt-how-bjp-reacted-to-kejriwal-announcing-to-resign-as-delhi-cm/articleshow/113368962.cms', 'og:title': \"'PR stunt ... gimmick': How BJP, Congress reacted to Kejriwal announcing to resign as Delhi CM | India News - Times of India\", 'og:image:height': '580', 'y_key': 'b1abb36a8d5c19c9', 'og:description': 'India News: Delhi chief minister Arvind Kejriwal announced he will resign within two days, seeking public endorsement of his honesty. The BJP criticized this move', 'fb:pages': '26781952138', 'twitter:image': 'https://static.toiimg.com/thumb/msid-113368995,width-1070,height-580,imgsize-1077274,resizemode-75,overlay-toi_sw,pt-32,y_pad-40/photo.jpg', 'fb:app_id': '117787264903013', 'viewport': 'width=device-width, initial-scale=1, maximum-scale=1', 'news_keywords': 'India, News, Google News, India Breaking News, India news, Live News India, Top news in India,Sonia Gandhi,Kejriwal,BJP,Arvind Kejriwal,Aam Aadmi Party', 'twitter:description': 'India News: Delhi chief minister Arvind Kejriwal announced he will resign within two days, seeking public endorsement of his honesty. The BJP criticized this move', 'apple-mobile-web-app-capable': 'yes', 'mobileoptimized': 'width', 'mobile-web-app-capable': 'yes', 'og:url': 'https://timesofindia.indiatimes.com/india/drama-pr-stunt-how-bjp-reacted-to-kejriwal-announcing-to-resign-as-delhi-cm/articleshow/113368962.cms'}], 'cse_image': [{'src': 'https://static.toiimg.com/thumb/msid-113368995,width-1070,height-580,imgsize-1077274,resizemode-75,overlay-toi_sw,pt-32,y_pad-40/photo.jpg'}], 'listitem': [{'item': 'News', 'name': 'News', 'position': '1'}, {'item': 'India News', 'name': 'India News', 'position': '2'}]}}, {'kind': 'customsearch#result', 'title': 'Bharatiya Janata Party - Wikipedia', 'htmlTitle': '<b>Bharatiya Janata Party</b> - Wikipedia', 'link': 'https://en.wikipedia.org/wiki/Bharatiya_Janata_Party', 'displayLink': 'en.wikipedia.org', 'snippet': \"Jan 23, 2025 ... BJP emerged out from Syama Prasad Mukherjee's Bharatiya Jana Sangh. Since 2014, it has been the ruling political party in India under the incumbent Prime\\xa0...\", 'htmlSnippet': 'Jan 23, 2025 <b>...</b> <b>BJP</b> emerged out from Syama Prasad Mukherjee&#39;s Bharatiya Jana Sangh. Since 2014, it has been the ruling political party in <b>India</b> under the incumbent Prime&nbsp;...', 'formattedUrl': 'https://en.wikipedia.org/wiki/Bharatiya_Janata_Party', 'htmlFormattedUrl': 'https://en.wikipedia.org/wiki/Bharatiya_Janata_Party', 'pagemap': {'hcard': [{'url_text': 'www.bjp.org', 'bday': '1980-04-06', 'fn': 'Bharatiya Janata Party', 'nickname': 'BJP', 'label': '6-A, Deen Dayal Upadhyaya Marg, New Delhi, Delhi, India[15]', 'category': 'Conservatism (Indian)[25]Neoliberalism[26]Integral humanism[27]Hindutva[28]Hindu nationalism[29]Right-wing populism[30]', 'url': 'www.bjp.org'}], 'metatags': [{'referrer': 'origin', 'og:image': 'https://upload.wikimedia.org/wikipedia/commons/thumb/0/03/Bharatiya_Janata_Party_%28icon%29.svg/1200px-Bharatiya_Janata_Party_%28icon%29.svg.png', 'theme-color': '#eaecf0', 'og:image:width': '1200', 'og:type': 'website', 'viewport': 'width=device-width, initial-scale=1.0, user-scalable=yes, minimum-scale=0.25, maximum-scale=5.0', 'og:title': 'Bharatiya Janata Party - Wikipedia', 'og:image:height': '1242', 'format-detection': 'telephone=no'}]}}, {'kind': 'customsearch#result', 'title': \"'Hindi is not national language': BJP's Annamalai backs ...\", 'htmlTitle': '&#39;Hindi is not national language&#39;: <b>BJP&#39;s</b> Annamalai backs ...', 'link': 'https://timesofindia.indiatimes.com/india/hindi-is-not-national-language-ravichandran-ashwin-at-college-event-in-tamil-nadu/articleshow/117122362.cms', 'displayLink': 'timesofindia.indiatimes.com', 'snippet': \"Jan 10, 2025 ... 'Hindi is not national language': BJP's Annamalai backs Ravichandran Ashwin's remark. TOI News Desk / TIMESOFINDIA.COM / Updated: Jan 10, 2025, 19:59 IST.\", 'htmlSnippet': 'Jan 10, 2025 <b>...</b> &#39;Hindi is not national language&#39;: <b>BJP&#39;s</b> Annamalai backs Ravichandran Ashwin&#39;s remark. <b>TOI</b> News Desk / TIMESOFINDIA.COM / Updated: Jan 10, 2025, 19:59 IST.', 'formattedUrl': 'https://timesofindia.indiatimes.com/india/hindi-is.../117122362.cms', 'htmlFormattedUrl': 'https://<b>timesofindia</b>.<b>indiatimes</b>.com/<b>india</b>/hindi-is.../117122362.cms', 'pagemap': {'cse_thumbnail': [{'src': 'https://encrypted-tbn0.gstatic.com/images?q=tbn:ANd9GcTsIs_qJdfUsZzyuNGijAgf6qEasLWyqTnmW6r3SbJ2QVNwPENwoR3L2eKy&s', 'width': '305', 'height': '165'}], 'imageobject': [{'width': '600', 'url': 'https://static.toiimg.com/photo/msid-58127550/toilogo.jpg', 'height': '60'}], 'organization': [{'name': 'Times of India', 'url': 'https://timesofindia.indiatimes.com'}], 'metatags': [{'og:image': 'https://static.toiimg.com/thumb/msid-117124349,width-1070,height-580,imgsize-774109,resizemode-75,overlay-toi_sw,pt-32,y_pad-40/photo.jpg', 'twitter:title': \"'Hindi is not national language': BJP's Annamalai backs Ravichandran Ashwin's remark | India News - The Times of India\", 'og:image:width': '1070', 'theme-color': '#af2c2c', 'og:type': 'article', 'og:site_name': 'The Times of India', 'handheldfriendly': 'true', 'twitter:url': 'https://timesofindia.indiatimes.com/india/hindi-is-not-national-language-ravichandran-ashwin-at-college-event-in-tamil-nadu/articleshow/117122362.cms', 'the times of india': 'app-id=427589329,app-argument=https://timesofindia.indiatimes.com/india/hindi-is-not-national-language-ravichandran-ashwin-at-college-event-in-tamil-nadu/articleshow/117122362.cms', 'og:title': \"'Hindi is not national language': BJP's Annamalai backs Ravichandran Ashwin's remark | India News - The Times of India\", 'og:image:height': '580', 'y_key': 'b1abb36a8d5c19c9', 'og:description': 'India News: NEW DELHI: Former cricketer Ravichandran Ashwin made a strong statement as the chief guest at a college event in Tamil Nadu, saying, Hindi is not the .', 'fb:pages': '26781952138', 'twitter:image': 'https://static.toiimg.com/thumb/msid-117124349,width-1070,height-580,imgsize-774109,resizemode-75,overlay-toi_sw,pt-32,y_pad-40/photo.jpg', 'fb:app_id': '117787264903013', 'viewport': 'width=device-width, initial-scale=1, maximum-scale=1', 'news_keywords': 'India, News, Google News, India Breaking News, India news, Live News India, Top news in India,Tamil Nadu college event,Tamil language preference,Ravichandran Ashwin,official language of India,Hindi national language,Ashwin retirement news', 'twitter:description': 'India News: NEW DELHI: Former cricketer Ravichandran Ashwin made a strong statement as the chief guest at a college event in Tamil Nadu, saying, Hindi is not the .', 'apple-mobile-web-app-capable': 'yes', 'mobileoptimized': 'width', 'mobile-web-app-capable': 'yes', 'og:url': 'https://timesofindia.indiatimes.com/india/hindi-is-not-national-language-ravichandran-ashwin-at-college-event-in-tamil-nadu/articleshow/117122362.cms'}], 'cse_image': [{'src': 'https://static.toiimg.com/thumb/msid-117124349,width-1070,height-580,imgsize-774109,resizemode-75,overlay-toi_sw,pt-32,y_pad-40/photo.jpg'}], 'listitem': [{'item': 'News', 'name': 'News', 'position': '1'}, {'item': 'India News', 'name': 'India News', 'position': '2'}]}}, {'kind': 'customsearch#result', 'title': \"Where Modi's B.J.P. Lost Support In India's Election - The New York ...\", 'htmlTitle': 'Where Modi&#39;s <b>B.J.P.</b> Lost Support In <b>India&#39;s</b> Election - The New York ...', 'link': 'https://www.nytimes.com/interactive/2024/06/07/world/asia/india-election-map.html', 'displayLink': 'www.nytimes.com', 'snippet': 'Jun 7, 2024 ... It won a seat for the first time in the left-dominated state of Kerala and several seats in the state of Telangana. N.D.A. alliance gained territory in the east\\xa0...', 'htmlSnippet': 'Jun 7, 2024 <b>...</b> It won a seat for the first <b>time</b> in the left-dominated state of Kerala and several seats in the state of Telangana. N.D.A. alliance gained territory in the east&nbsp;...', 'formattedUrl': 'https://www.nytimes.com/interactive/2024/06/07/.../india-election-map.html', 'htmlFormattedUrl': 'https://www.ny<b>times</b>.com/interactive/2024/06/07/.../<b>india</b>-election-map.html', 'pagemap': {'cse_thumbnail': [{'src': 'https://encrypted-tbn0.gstatic.com/images?q=tbn:ANd9GcSQc--NWSP4wH8GZYHYhelWhzNWwhDsv8vUOum8WzmVuTZBJ6R0vGhT1bc&s', 'width': '311', 'height': '162'}], 'metatags': [{'og:image': 'https://static01.nyt.com/images/2024/06/07/multimedia/2024-06-05-india-elections-index/2024-06-05-india-elections-index-facebookJumbo-v8.jpg', 'nyt_uri': 'nyt://interactive/eef36ffc-3294-58f5-8926-60a5a32f70e2', 'twitter:card': 'summary_large_image', 'article:published_time': '2024-06-07T12:44:55.000Z', 'twitter:url': 'https://www.nytimes.com/interactive/2024/06/07/world/asia/india-election-map.html', 'pdate': '20240607', 'articleid': '100000009509485', 'og:description': 'Maps show how Modi lost support throughout the country, including in areas that had embraced his party’s Hindu-nationalist ideology.', 'twitter:image': 'https://static01.nyt.com/images/2024/06/07/multimedia/2024-06-05-india-elections-index/2024-06-05-india-elections-index-videoSixteenByNine3000-v6.jpg', 'twitter:site': '@nytimes', 'article:modified_time': '2024-06-08T04:08:30.922Z', 'news_keywords': 'India,Narendra Modi,Bharatiya Janata Party,Election', 'scg': 'asia', 'article:content_tier': 'metered', 'image': 'https://static01.nyt.com/images/2024/06/07/multimedia/2024-06-05-india-elections-index/2024-06-05-india-elections-index-facebookJumbo-v8.jpg', 'twitter:title': 'Where India Turned Against Modi', 'og:type': 'article', 'article:section': 'World', 'cg': 'world', 'pubp_event_id': 'pubp://event/da4781fd7bdb4fdf866d04ae560ac424', 'og:title': 'Where India Turned Against Modi', 'slack-app-id': 'A0121HXPPTQ', 'article:author': 'https://www.nytimes.com/by/agnes-chang', 'article:tag': 'India', 'fb:app_id': '9869919170', 'byl': 'By Agnes Chang, Mujib Mashal and Pablo Robles', 'viewport': 'width=device-width, initial-scale=1', 'twitter:description': 'Maps show how Modi lost support throughout the country, including in areas that had embraced his party’s Hindu-nationalist ideology.', 'og:url': 'https://www.nytimes.com/interactive/2024/06/07/world/asia/india-election-map.html', 'article:opinion': 'false'}], 'cse_image': [{'src': 'https://static01.nyt.com/images/2024/06/07/multimedia/2024-06-05-india-elections-index/2024-06-05-india-elections-index-facebookJumbo-v8.jpg'}]}}, {'kind': 'customsearch#result', 'title': \"BJP expels functionary after video of restaurant owner's apology to ...\", 'htmlTitle': '<b>BJP</b> expels functionary after video of restaurant owner&#39;s apology to ...', 'link': 'https://timesofindia.indiatimes.com/india/bjp-expels-functionary-after-video-of-restaurant-owners-apology-to-sitharaman-sparks-outrage/articleshow/113351118.cms', 'displayLink': 'timesofindia.indiatimes.com', 'snippet': 'Sep 14, 2024 ... India News: BJP expelled a functionary after a video of a restaurant ... India News - Times of India. About usPrivacy policyTerms of Use and Grievance\\xa0...', 'htmlSnippet': 'Sep 14, 2024 <b>...</b> India News: <b>BJP</b> expelled a functionary after a video of a restaurant ... India News - <b>Times of India</b>. About usPrivacy policyTerms of Use and Grievance&nbsp;...', 'formattedUrl': 'https://timesofindia.indiatimes.com/india/bjp...of.../113351118.cms', 'htmlFormattedUrl': 'https://<b>timesofindia</b>.<b>indiatimes</b>.com/<b>india</b>/<b>bjp</b>...of.../113351118.cms', 'pagemap': {'cse_thumbnail': [{'src': 'https://encrypted-tbn0.gstatic.com/images?q=tbn:ANd9GcRp635A4OkyDhdG332H6O5gXPqcGFLw2DLwuc2-b-J4gzYuNeAWNM5DMls&s', 'width': '305', 'height': '165'}], 'imageobject': [{'width': '600', 'url': 'https://static.toiimg.com/photo/msid-58127550/toilogo.jpg', 'height': '60'}], 'organization': [{'name': 'Times of India', 'url': 'https://timesofindia.indiatimes.com'}], 'metatags': [{'og:image': 'https://static.toiimg.com/thumb/msid-113351810,width-1070,height-580,imgsize-22752,resizemode-75,overlay-toi_sw,pt-32,y_pad-40/photo.jpg', 'twitter:title': \"BJP expels functionary after video of restaurant owner's apology to Sitharaman sparks outrage | India News - Times of India\", 'og:image:width': '1070', 'theme-color': '#af2c2c', 'og:type': 'article', 'og:site_name': 'The Times of India', 'handheldfriendly': 'true', 'twitter:url': 'https://timesofindia.indiatimes.com/india/bjp-expels-functionary-after-video-of-restaurant-owners-apology-to-sitharaman-sparks-outrage/articleshow/113351118.cms', 'the times of india': 'app-id=427589329,app-argument=https://timesofindia.indiatimes.com/india/bjp-expels-functionary-after-video-of-restaurant-owners-apology-to-sitharaman-sparks-outrage/articleshow/113351118.cms', 'og:title': \"BJP expels functionary after video of restaurant owner's apology to Sitharaman sparks outrage | India News - Times of India\", 'og:image:height': '580', 'y_key': 'b1abb36a8d5c19c9', 'og:description': 'India News: BJP expelled a functionary after a video of a restaurant owner apologizing to Finance Minister Nirmala Sitharaman went viral. The owner humorously cri', 'fb:pages': '26781952138', 'twitter:image': 'https://static.toiimg.com/thumb/msid-113351810,width-1070,height-580,imgsize-22752,resizemode-75,overlay-toi_sw,pt-32,y_pad-40/photo.jpg', 'fb:app_id': '117787264903013', 'viewport': 'width=device-width, initial-scale=1, maximum-scale=1', 'news_keywords': 'India, News, Google News, India Breaking News, India news, Live News India, Top news in India,small business,Rahul Gandhi,Nirmala Sitharaman,GST,BJP', 'twitter:description': 'India News: BJP expelled a functionary after a video of a restaurant owner apologizing to Finance Minister Nirmala Sitharaman went viral. The owner humorously cri', 'apple-mobile-web-app-capable': 'yes', 'mobileoptimized': 'width', 'mobile-web-app-capable': 'yes', 'og:url': 'https://timesofindia.indiatimes.com/india/bjp-expels-functionary-after-video-of-restaurant-owners-apology-to-sitharaman-sparks-outrage/articleshow/113351118.cms'}], 'cse_image': [{'src': 'https://static.toiimg.com/thumb/msid-113351810,width-1070,height-580,imgsize-22752,resizemode-75,overlay-toi_sw,pt-32,y_pad-40/photo.jpg'}], 'listitem': [{'item': 'News', 'name': 'News', 'position': '1'}, {'item': 'India News', 'name': 'India News', 'position': '2'}]}}, {'kind': 'customsearch#result', 'title': \"Is India's BJP the world's most ruthlessly efficient political party?\", 'htmlTitle': 'Is <b>India&#39;s BJP</b> the world&#39;s most ruthlessly efficient political party?', 'link': 'https://www.ft.com/content/d5a1dfaa-ecfb-45c5-b60d-458f89228ea3', 'displayLink': 'www.ft.com', 'snippet': 'Apr 16, 2024 ... “When the BJP comes back to power this time, I am very sure India will be declared a Hindu nation. I want that to happen because then no minority can crush us.”.', 'htmlSnippet': 'Apr 16, 2024 <b>...</b> “When the <b>BJP</b> comes back to power this <b>time</b>, I am very sure <b>India</b> will be declared a Hindu nation. I want that to happen because then no minority can crush us.”.', 'formattedUrl': 'https://www.ft.com/content/d5a1dfaa-ecfb-45c5-b60d-458f89228ea3', 'htmlFormattedUrl': 'https://www.ft.com/content/d5a1dfaa-ecfb-45c5-b60d-458f89228ea3', 'pagemap': {'cse_thumbnail': [{'src': 'https://encrypted-tbn0.gstatic.com/images?q=tbn:ANd9GcQCx0FylEr1q-kfOG4Fk_wcsTlmBg6sIGks6VcKi2vWCCEzUYBF7pt1vqwy&s', 'width': '299', 'height': '168'}], 'metatags': [{'og:image': 'https://www.ft.com/__origami/service/image/v2/images/raw/https%3A%2F%2Fd1e00ek4ebabms.cloudfront.net%2Fproduction%2F84c0b12d-c866-4f31-87d6-d27b7ce5928d.jpg?source=next-article&fit=scale-down&quality=highest&width=700&dpr=1', 'apple-itunes-app': 'app-id=1200842933, app-argument=https://www.ft.com/content/d5a1dfaa-ecfb-45c5-b60d-458f89228ea3', 'twitter:card': 'summary_large_image', 'og:type': 'article', 'article:published_time': '2024-04-17T04:00:27.632Z', 'og:title': 'Is India’s BJP the world’s most ruthlessly efficient political party?', 'fb:pages': '8860325749', 'og:description': 'Prime Minister Narendra Modi’s party has built one of the most formidable electoral machines in recent history', 'article:author': 'Benjamin Parkin', 'twitter:image': 'https://www.ft.com/__origami/service/image/v2/images/raw/https%3A%2F%2Fd1e00ek4ebabms.cloudfront.net%2Fproduction%2F84c0b12d-c866-4f31-87d6-d27b7ce5928d.jpg?source=next-article&fit=scale-down&quality=highest&width=700&dpr=1', 'article:tag': 'The Big Read', 'twitter:site': '@FinancialTimes', 'article:modified_time': '2024-04-17T04:00:27.632Z', 'viewport': 'width=device-width, initial-scale=1', 'og:url': 'https://www.ft.com/content/d5a1dfaa-ecfb-45c5-b60d-458f89228ea3'}], 'cse_image': [{'src': 'https://www.ft.com/__origami/service/image/v2/images/raw/https%3A%2F%2Fd1e00ek4ebabms.cloudfront.net%2Fproduction%2F84c0b12d-c866-4f31-87d6-d27b7ce5928d.jpg?source=next-article&fit=scale-down&quality=highest&width=700&dpr=1'}]}}, {'kind': 'customsearch#result', 'title': 'Delhi exit poll results 2025: Pollsters predict BJP comeback, trouble ...', 'htmlTitle': 'Delhi exit poll results 2025: Pollsters predict <b>BJP</b> comeback, trouble ...', 'link': 'https://timesofindia.indiatimes.com/india/delhi-exit-poll-results-2025-pollsters-predict-bjp-comeback-trouble-for-aap-in-delhi-elections/articleshow/117951823.cms', 'displayLink': 'timesofindia.indiatimes.com', 'snippet': 'Feb 5, 2025 ... Delhi exit poll results 2025: Pollsters predict BJP comeback, trouble for AAP in Delhi elections. TOI News Desk / TIMESOFINDIA.COM / Updated: Feb 5, 2025, 19:51\\xa0...', 'htmlSnippet': 'Feb 5, 2025 <b>...</b> Delhi exit poll results 2025: Pollsters predict <b>BJP</b> comeback, trouble for AAP in Delhi elections. <b>TOI</b> News Desk / TIMESOFINDIA.COM / Updated: Feb 5, 2025, 19:51&nbsp;...', 'formattedUrl': 'https://timesofindia.indiatimes.com/india/...bjp...in.../117951823.cms', 'htmlFormattedUrl': 'https://<b>timesofindia</b>.<b>indiatimes</b>.com/<b>india</b>/...<b>bjp</b>...in.../117951823.cms', 'pagemap': {'cse_thumbnail': [{'src': 'https://encrypted-tbn0.gstatic.com/images?q=tbn:ANd9GcScBRHvugTAjeZZwHwzEs9Fr22H1itmbeblOXftASktlB50dBkcf3I8bogL&s', 'width': '305', 'height': '165'}], 'imageobject': [{'width': '600', 'url': 'https://static.toiimg.com/photo/msid-58127550/toilogo.jpg', 'height': '60'}], 'organization': [{'name': 'Times of India', 'url': 'https://timesofindia.indiatimes.com'}], 'metatags': [{'og:image': 'https://static.toiimg.com/thumb/msid-117952156,width-1070,height-580,imgsize-1703405,resizemode-75,overlay-toi_sw,pt-32,y_pad-40/photo.jpg', 'twitter:title': 'Delhi exit poll results 2025: Pollsters predict BJP comeback, trouble for AAP in Delhi elections | India News - The Times of India', 'og:image:width': '1070', 'theme-color': '#af2c2c', 'og:type': 'article', 'og:site_name': 'The Times of India', 'handheldfriendly': 'true', 'twitter:url': 'https://timesofindia.indiatimes.com/india/delhi-exit-poll-results-2025-pollsters-predict-bjp-comeback-trouble-for-aap-in-delhi-elections/articleshow/117951823.cms', 'the times of india': 'app-id=427589329,app-argument=https://timesofindia.indiatimes.com/india/delhi-exit-poll-results-2025-pollsters-predict-bjp-comeback-trouble-for-aap-in-delhi-elections/articleshow/117951823.cms', 'og:title': 'Delhi exit poll results 2025: Pollsters predict BJP comeback, trouble for AAP in Delhi elections | India News - The Times of India', 'og:image:height': '580', 'y_key': 'b1abb36a8d5c19c9', 'og:description': 'India News: Exit polls for the 2025 Delhi assembly elections on Wednesday predicted that the BJP will likely pull off a major upset and secure a majority in the l.', 'fb:pages': '26781952138', 'twitter:image': 'https://static.toiimg.com/thumb/msid-117952156,width-1070,height-580,imgsize-1703405,resizemode-75,overlay-toi_sw,pt-32,y_pad-40/photo.jpg', 'fb:app_id': '117787264903013', 'viewport': 'width=device-width, initial-scale=1, maximum-scale=1', 'news_keywords': 'India, News, Google News, India Breaking News, India news, Live News India, Top news in India,exit polls,delhi exit polls,bjp,arvind kejriwal,aap', 'twitter:description': 'India News: Exit polls for the 2025 Delhi assembly elections on Wednesday predicted that the BJP will likely pull off a major upset and secure a majority in the l.', 'apple-mobile-web-app-capable': 'yes', 'mobileoptimized': 'width', 'mobile-web-app-capable': 'yes', 'og:url': 'https://timesofindia.indiatimes.com/india/delhi-exit-poll-results-2025-pollsters-predict-bjp-comeback-trouble-for-aap-in-delhi-elections/articleshow/117951823.cms'}], 'cse_image': [{'src': 'https://static.toiimg.com/thumb/msid-117952156,width-1070,height-580,imgsize-1703405,resizemode-75,overlay-toi_sw,pt-32,y_pad-40/photo.jpg'}], 'listitem': [{'item': 'News', 'name': 'News', 'position': '1'}, {'item': 'India News', 'name': 'India News', 'position': '2'}]}}, {'kind': 'customsearch#result', 'title': \"Elections 2024 Result LIVE: India's Biggest Election Coverage With ...\", 'htmlTitle': 'Elections 2024 Result LIVE: <b>India&#39;s</b> Biggest Election Coverage With ...', 'link': 'https://www.youtube.com/watch?v=LgwfiWZmNwU', 'displayLink': 'www.youtube.com', 'snippet': \"Jun 1, 2024 ... Elections 2024 Result LIVE: India's Biggest Election Coverage With Times Now, BJP Vs Congress. #live #loksabhaelections2024 #Indiaelection2024\\xa0...\", 'htmlSnippet': 'Jun 1, 2024 <b>...</b> Elections 2024 Result LIVE: <b>India&#39;s</b> Biggest Election Coverage With <b>Times</b> Now, <b>BJP</b> Vs Congress. #live #loksabhaelections2024 #Indiaelection2024&nbsp;...', 'formattedUrl': 'https://www.youtube.com/watch?v=LgwfiWZmNwU', 'htmlFormattedUrl': 'https://www.youtube.com/watch?v=LgwfiWZmNwU', 'pagemap': {'cse_thumbnail': [{'src': 'https://encrypted-tbn0.gstatic.com/images?q=tbn:ANd9GcTZr5LoBhaMm3bgJFsxtWICYSrOQQB2n07d-IT69q7eryz8XUXO2rcMpfY&s', 'width': '299', 'height': '168'}], 'VideoObject': [{}], 'metatags': [{'apple-itunes-app': 'app-id=544007664, app-argument=https://m.youtube.com/watch?v=LgwfiWZmNwU&referring_app=com.apple.mobilesafari-smartbanner, affiliate-data=ct=smart_app_banner_polymer&pt=9008', 'theme-color': 'rgba(0, 0, 0, 0)', 'viewport': 'width=device-width, initial-scale=1.0, minimum-scale=1.0, maximum-scale=1.0, user-scalable=no,', 'twitter:url': 'https://www.youtube.com/watch?v=LgwfiWZmNwU', 'og:url': 'https://www.youtube.com/watch?v=LgwfiWZmNwU'}], 'cse_image': [{'src': 'https://i.ytimg.com/vi/7PYQLEtuoGw/hq720.jpg?sqp=-oaymwEhCK4FEIIDSFryq4qpAxMIARUAAAAAGAElAADIQj0AgKJD&rs=AOn4CLDkLXqcYS8tKJ86k2FVRjGkNYQFIw'}]}}, {'kind': 'customsearch#result', 'title': \"India's Election Results: 5 Surprising Takeaways | TIME\", 'htmlTitle': '<b>India&#39;s</b> Election Results: 5 Surprising Takeaways | <b>TIME</b>', 'link': 'https://time.com/6985897/indias-election-results-takeaways/', 'displayLink': 'time.com', 'snippet': 'Jun 5, 2024 ... The BJP won only 240 seats this election, effectively losing the single-party majority Modi has enjoyed since he was first elected in 2014.', 'htmlSnippet': 'Jun 5, 2024 <b>...</b> The <b>BJP</b> won only 240 seats this election, effectively losing the single-party majority Modi has enjoyed since he was first elected in 2014.', 'formattedUrl': 'https://time.com/6985897/indias-election-results-takeaways/', 'htmlFormattedUrl': 'https://time.com/6985897/<b>india</b>s-election-results-takeaways/', 'pagemap': {'cse_thumbnail': [{'src': 'https://encrypted-tbn0.gstatic.com/images?q=tbn:ANd9GcRl1y9zsgWTtXuToc-KzCRY_HUVf4F5cMVqk5aWv7sTDCrXy-n6gneBNX4&s', 'width': '299', 'height': '168'}], 'metatags': [{'pinterest:description': 'After six long weeks of voting in the grueling heat, India’s election delivered stunning results.', 'og:image': 'https://api.time.com/wp-content/uploads/2024/06/AP24156253116593.jpg?quality=85&w=1200&h=628&crop=1', 'theme-color': '#e90606', 'article:published_time': '2024-06-05T17:44:47', 'og:image:width': '1200', 'twitter:card': 'summary_large_image', 'og:site_name': 'TIME', 'og:description': 'After six long weeks of voting in the grueling heat, India’s election delivered stunning results.', 'twitter:creator': '@astharajvanshi', 'twitter:image': 'https://api.time.com/wp-content/uploads/2024/06/AP24156253116593.jpg?quality=85&w=1200&h=628&crop=1', 'twitter:site': '@TIME', 'pinterest:media': 'https://api.time.com/wp-content/uploads/2024/06/AP24156253116593.jpg?quality=85&w=1200&h=628&crop=1', 'article:content_tier': 'free', 'pinterest:url': 'https://time.com/6985897/indias-election-results-takeaways/', 'application-name': 'nextgen', 'creator': 'Astha Rajvanshi', 'og:type': 'article', 'twitter:title': \"India's Election Results: 5 Surprising Takeaways\", 'author': 'Astha Rajvanshi', 'og:title': \"India's Election Results: 5 Surprising Takeaways\", 'og:image:height': '628', 'fb:pages': '10606591490', 'fb:app_id': '991230477954201', 'viewport': 'width=device-width, initial-scale=1', 'twitter:description': 'After six long weeks of voting in the grueling heat, India’s election delivered stunning results.', 'primary-tag': 'india', 'amphtml': 'https://time.com/6985897/indias-election-results-takeaways/?amp=true', 'category': 'World', 'og:url': 'https://time.com/6985897/indias-election-results-takeaways/', 'article:opinion': 'false', 'format-detection': 'telephone=no'}], 'cse_image': [{'src': 'https://cdn.jwplayer.com/v2/media/BM69wZRk/poster.jpg?width=720'}]}}, {'kind': 'customsearch#result', 'title': 'Modi set to take oath for the third time on June 8 as allies pledge ...', 'htmlTitle': 'Modi set to take oath for the third <b>time</b> on June 8 as allies pledge ...', 'link': 'https://www.reuters.com/world/india/indias-modi-allies-meet-after-humbling-election-verdict-2024-06-05/', 'displayLink': 'www.reuters.com', 'snippet': \"Jun 5, 2024 ... Indian PM Modi to take oath for third term likely on June 8 · Modi's BJP loses majority, allies' support crucial to rule · Election results may impact reform\\xa0...\", 'htmlSnippet': 'Jun 5, 2024 <b>...</b> <b>Indian</b> PM Modi to take oath for third term likely on June 8 &middot; Modi&#39;s <b>BJP</b> loses majority, allies&#39; support crucial to rule &middot; Election results may impact reform&nbsp;...', 'formattedUrl': 'https://www.reuters.com/.../india/indias-modi-allies-meet-after-humbling-el...', 'htmlFormattedUrl': 'https://www.reuters.com/.../<b>india</b>/<b>india</b>s-modi-allies-meet-after-humbling-el...', 'pagemap': {'cse_thumbnail': [{'src': 'https://encrypted-tbn0.gstatic.com/images?q=tbn:ANd9GcTvllrKh1XoxkFivGSNgWzKmtNWDdMW1Lzk1zx8aGoxJEVvuabQI0c7LCY&s', 'width': '310', 'height': '162'}], 'metatags': [{'apple-itunes-app': 'app-id=602660809, app-argument=https://www.reuters.com/world/india/indias-modi-allies-meet-after-humbling-election-verdict-2024-06-05/?id=PBJGTR45CJL2BEWYWUEYAI4GEU', 'og:image': 'https://www.reuters.com/resizer/v2/QQ32R7OLP5L57PSQNV6FXFMDRQ.jpg?auth=aacfd1eb272120a91a7499abac229fbfda33739dccdc4d4268c2564b0a33659e&height=1005&width=1920&quality=80&smart=true', 'analytics:page_layout': 'regular-article', 'article:published_time': '2024-06-05T19:00:37Z', 'og:image:width': '1200', 'twitter:card': 'summary_large_image', 'og:site_name': 'Reuters', 'og:article:modified_time': '2024-06-05T19:01:14.691Z', 'ccbot': 'nofollow', 'analytics:ad_layout': 'leaderboard, right rail, sponsored', 'analyticsattributes.topicchannel': 'World', 'title': 'Modi set to take oath for the third time on June 8 as allies pledge support | Reuters', 'og:description': \"Indian Prime Minister Narendra Modi's National Democratic Alliance (NDA) formally named him on Wednesday to lead a new coalition government for a third straight term, a day after it regained power with a surprisingly slim majority.\", 'twitter:creator': '@Reuters', 'twitter:image': 'https://www.reuters.com/resizer/v2/QQ32R7OLP5L57PSQNV6FXFMDRQ.jpg?auth=aacfd1eb272120a91a7499abac229fbfda33739dccdc4d4268c2564b0a33659e&height=1005&width=1920&quality=80&smart=true', 'twitter:image:alt': 'Indian Prime Minister Narendra Modi gestures as he arrives at Bharatiya Janata Party (BJP) headquarters in New Delhi, India, June 4, 2024. REUTERS/Adnan Abidi', 'twitter:site': '@Reuters', 'article:modified_time': '2024-06-05T19:01:14.691Z', 'fb:admins': '988502044532272', 'article:content_tier': 'metered', 'og:type': 'article', 'article:section': 'India', 'og:image:alt': 'Indian Prime Minister Narendra Modi gestures as he arrives at Bharatiya Janata Party (BJP) headquarters in New Delhi, India, June 4, 2024. REUTERS/Adnan Abidi', 'twitter:title': 'Modi set to take oath for the third time on June 8 as allies pledge support', 'ad:template': 'article', 'og:image:url': 'https://www.reuters.com/resizer/v2/QQ32R7OLP5L57PSQNV6FXFMDRQ.jpg?auth=aacfd1eb272120a91a7499abac229fbfda33739dccdc4d4268c2564b0a33659e&height=1005&width=1920&quality=80&smart=true', 'dcsext.dartzone': '/4735792/reuters.com/world/india/article', 'og:title': 'Modi set to take oath for the third time on June 8 as allies pledge support', 'dcsext.channellist': 'World;World;India', 'og:image:height': '628', 'og:article:published_time': '2024-06-05T19:00:37Z', 'og:updated_time': '2024-06-05T19:01:14.691Z', 'fb:pages': '114050161948682', 'article:author': 'Rishika Sadam,Sarita Chaganti Singh,Manoj Kumar', 'article:tag': 'RULES:ELECTION-EXCLUDE-USA,RULES:INDIA-ELECTION,GEN,NEWS1,POL,VOTE,VOTH,SASIA,IN,ASXPAC,EMRG,ASIA,PACKAGE:US-TOP-NEWS,PACKAGE:WORLD-NEWS,MTVID,MTPIX,TOPNWS,DIP,TOPCMB,CWP,ECO,MCE,MMT,SECUR,TRD', 'analyticsattributes.topicsubchannel': 'India', 'fb:app_id': '988502044532272', 'og:locale:alternate': 'en_US', 'viewport': 'width=device-width, initial-scale=1', 'twitter:description': \"Indian Prime Minister Narendra Modi's National Democratic Alliance (NDA) formally named him on Wednesday to lead a new coalition government for a third straight term, a day after it regained power with a surprisingly slim majority.\", 'og:locale': 'en_US', 'og:url': 'https://www.reuters.com/world/india/indias-modi-allies-meet-after-humbling-election-verdict-2024-06-05/'}], 'cse_image': [{'src': 'https://www.reuters.com/resizer/v2/QQ32R7OLP5L57PSQNV6FXFMDRQ.jpg?auth=aacfd1eb272120a91a7499abac229fbfda33739dccdc4d4268c2564b0a33659e&height=1005&width=1920&quality=80&smart=true'}]}}]}\n"
          ]
        }
      ],
      "source": [
        "sites = ['indianexpress.com', 'bbc.com', 'timesofindia.indiatimes.com']\n",
        "\n",
        "query = 'bjp ' + ' OR '.join(f\"site:{site}\" for site in sites)\n",
        "url = 'https://www.googleapis.com/customsearch/v1'\n",
        "\n",
        "# dateRestrict -> 1 year\n",
        "# tbm -> Returns only articles\n",
        "\n",
        "params = {\n",
        "    'q': query,\n",
        "    'key': api_key,\n",
        "    'cx': search_engine_id,\n",
        "    \"dateRestrict\": \"y1\",\n",
        "    \"tbm\": \"nws\"\n",
        "}\n",
        "html = requests.get(url, params=params)\n",
        "result = html.json()\n",
        "print(result)"
      ]
    },
    {
      "cell_type": "code",
      "execution_count": 48,
      "metadata": {
        "colab": {
          "base_uri": "https://localhost:8080/"
        },
        "id": "qAiJa8yoecUO",
        "outputId": "b137c153-49f6-4d04-a54f-6db3c3a0a5c6"
      },
      "outputs": [
        {
          "data": {
            "text/plain": [
              "['https://timesofindia.indiatimes.com/india/drama-pr-stunt-how-bjp-reacted-to-kejriwal-announcing-to-resign-as-delhi-cm/articleshow/113368962.cms',\n",
              " 'https://en.wikipedia.org/wiki/Bharatiya_Janata_Party',\n",
              " 'https://timesofindia.indiatimes.com/india/hindi-is-not-national-language-ravichandran-ashwin-at-college-event-in-tamil-nadu/articleshow/117122362.cms',\n",
              " 'https://www.nytimes.com/interactive/2024/06/07/world/asia/india-election-map.html',\n",
              " 'https://timesofindia.indiatimes.com/india/bjp-expels-functionary-after-video-of-restaurant-owners-apology-to-sitharaman-sparks-outrage/articleshow/113351118.cms',\n",
              " 'https://www.ft.com/content/d5a1dfaa-ecfb-45c5-b60d-458f89228ea3',\n",
              " 'https://timesofindia.indiatimes.com/india/delhi-exit-poll-results-2025-pollsters-predict-bjp-comeback-trouble-for-aap-in-delhi-elections/articleshow/117951823.cms',\n",
              " 'https://www.youtube.com/watch?v=LgwfiWZmNwU',\n",
              " 'https://time.com/6985897/indias-election-results-takeaways/',\n",
              " 'https://www.reuters.com/world/india/indias-modi-allies-meet-after-humbling-election-verdict-2024-06-05/']"
            ]
          },
          "execution_count": 48,
          "metadata": {},
          "output_type": "execute_result"
        }
      ],
      "source": [
        "list(result.keys())\n",
        "links = []\n",
        "\n",
        "if 'items' in list(result.keys()):\n",
        "    for element in result['items']:\n",
        "        links.append(element['link'])\n",
        "\n",
        "links"
      ]
    },
    {
      "cell_type": "code",
      "execution_count": 20,
      "metadata": {
        "id": "NA18ZAKCeeQg"
      },
      "outputs": [],
      "source": [
        "# For bbc content --> WORKING\n",
        "def bbc(url):\n",
        "  bbc_html = requests.get(url)\n",
        "  soup = BeautifulSoup(bbc_html.text, 'html.parser')\n",
        "  text_blocks = soup.find_all(attrs={'data-component': 'text-block'})\n",
        "  texts = ''\n",
        "  for ele in text_blocks:\n",
        "    texts += ele.get_text()\n",
        "  return texts"
      ]
    },
    {
      "cell_type": "code",
      "execution_count": 44,
      "metadata": {
        "collapsed": true,
        "id": "geA-2DorntuR"
      },
      "outputs": [],
      "source": [
        "# For Times Of India --> WORKING\n",
        "def toi(url):\n",
        "  toi_html = requests.get(url)\n",
        "  soup = BeautifulSoup(toi_html.text, 'html.parser')\n",
        "  text_blocks = soup.find_all(attrs={'data-articlebody': '1'})\n",
        "  texts = ''\n",
        "  for ele in text_blocks:\n",
        "    texts += ele.get_text()\n",
        "  return texts\n"
      ]
    },
    {
      "cell_type": "code",
      "execution_count": null,
      "metadata": {
        "colab": {
          "base_uri": "https://localhost:8080/"
        },
        "collapsed": true,
        "id": "jvAnzQG5qllh",
        "outputId": "15b9dfdb-ce64-4924-cf1e-bf4404169e8a"
      },
      "outputs": [],
      "source": [
        "# For Indian Express --> WORKING\n",
        "def indianexpress(url):\n",
        "  indianexpress_html = requests.get(url)\n",
        "  soup = BeautifulSoup(indianexpress_html.text, 'html.parser')\n",
        "  text_blocks = soup.find_all(attrs={'class': 'leftpanel'})\n",
        "  texts = ''\n",
        "  for ele in text_blocks:\n",
        "    texts += ele.get_text()\n",
        "    return texts"
      ]
    },
    {
      "cell_type": "code",
      "execution_count": null,
      "metadata": {
        "colab": {
          "base_uri": "https://localhost:8080/",
          "height": 88
        },
        "collapsed": true,
        "id": "P8CtvCGWfpCi",
        "outputId": "4c5d5dde-881b-46de-a004-8b9e77dd0c07"
      },
      "outputs": [],
      "source": [
        "# For ndtv news --> Not Working\n",
        "def ndtv(url):\n",
        "  ndtv_html = requests.get(links[5])\n",
        "  soup = BeautifulSoup(ndtv_html.text, 'html.parser')\n",
        "  text_blocks = soup.find_all(attrs={'class': 'stp-wr'})\n",
        "  texts = ''\n",
        "  for ele in text_blocks:\n",
        "    texts += ele.get_text()\n",
        "  return texts"
      ]
    },
    {
      "cell_type": "code",
      "execution_count": null,
      "metadata": {},
      "outputs": [],
      "source": [
        "articles = {}"
      ]
    },
    {
      "cell_type": "code",
      "execution_count": null,
      "metadata": {},
      "outputs": [],
      "source": [
        "# toi_urls = []\n",
        "# bbc_urls = []\n",
        "# ie_urls = []\n",
        "\n",
        "# for link in links:\n",
        "#     if 'timesofindia.indiatimes.com' in link:\n",
        "#         toi_urls.append(link)\n",
        "#     elif 'bbc.com' in link:\n",
        "#         bbc_urls.append(link)\n",
        "#     elif 'indianexpress.com' in link:\n",
        "#         ie_urls.append(link)"
      ]
    },
    {
      "cell_type": "code",
      "execution_count": null,
      "metadata": {
        "id": "ZT8lI0vstW2v"
      },
      "outputs": [],
      "source": [
        "for link in links[:5]:\n",
        "    if 'timesofindia.indiatimes.com' in link:\n",
        "        if 'TimesOfIndia' not in articles:\n",
        "            articles['TimesOfIndia'] = [toi(link)]\n",
        "        else:\n",
        "            articles['TimesOfIndia'].append(toi(link))\n",
        "    elif 'bbc.com' in link:\n",
        "        if 'bbc' not in articles:\n",
        "            articles['bbc'] = [bbc(link)]\n",
        "        else:\n",
        "            articles['bbc'].append(bbc(link))\n",
        "    elif 'indianexpress.com' in link:\n",
        "        if 'IndianExpress' not in articles:\n",
        "            articles['IndianExpress'] = [indianexpress(link)]\n",
        "        else:\n",
        "            articles['IndianExpress'].append(indianexpress(link))\n",
        "articles"
      ]
    },
    {
      "cell_type": "code",
      "execution_count": null,
      "metadata": {},
      "outputs": [],
      "source": [
        "def fetch_articles(sites):\n",
        "    api_key = os.getenv('API_KEY')\n",
        "    search_engine_id = os.getenv('SEARCH_ENGINE_ID')\n",
        "\n",
        "    # sites = ['indianexpress.com', 'bbc.com', 'timesofindia.indiatimes.com']\n",
        "\n",
        "    query = 'bjp ' + ' OR '.join(f\"site:{site}\" for site in sites)\n",
        "    url = 'https://www.googleapis.com/customsearch/v1'\n",
        "\n",
        "    # dateRestrict -> 1 year\n",
        "    # tbm -> Returns only articles\n",
        "\n",
        "    params = {\n",
        "        'q': query,\n",
        "        'key': api_key,\n",
        "        'cx': search_engine_id,\n",
        "        \"dateRestrict\": \"y1\",\n",
        "        \"tbm\": \"nws\"\n",
        "    }\n",
        "    html = requests.get(url, params=params)\n",
        "    result = html.json()\n",
        "\n",
        "    links = []\n",
        "\n",
        "    if 'items' in list(result.keys()):\n",
        "        for element in result['items']:\n",
        "            links.append(element['link'])\n",
        "\n",
        "    articles = {}\n",
        "\n",
        "    for link in links:\n",
        "        if 'timesofindia.indiatimes.com' in link:\n",
        "            if 'TimesOfIndia' not in articles:\n",
        "                articles['TimesOfIndia'] = [toi(link)]\n",
        "            else:\n",
        "                articles['TimesOfIndia'].append(toi(link))\n",
        "        elif 'bbc.com' in link:\n",
        "            if 'bbc' not in articles:\n",
        "                articles['bbc'] = [bbc(link)]\n",
        "            else:\n",
        "                articles['bbc'].append(bbc(link))\n",
        "        elif 'indianexpress.com' in link:\n",
        "            if 'IndianExpress' not in articles:\n",
        "                articles['IndianExpress'] = [indianexpress(link)]\n",
        "            else:\n",
        "                articles['IndianExpress'].append(indianexpress(link))\n",
        "    \n",
        "    return articles"
      ]
    }
  ],
  "metadata": {
    "colab": {
      "provenance": []
    },
    "kernelspec": {
      "display_name": "venv",
      "language": "python",
      "name": "python3"
    },
    "language_info": {
      "codemirror_mode": {
        "name": "ipython",
        "version": 3
      },
      "file_extension": ".py",
      "mimetype": "text/x-python",
      "name": "python",
      "nbconvert_exporter": "python",
      "pygments_lexer": "ipython3",
      "version": "3.10.11"
    }
  },
  "nbformat": 4,
  "nbformat_minor": 0
}
